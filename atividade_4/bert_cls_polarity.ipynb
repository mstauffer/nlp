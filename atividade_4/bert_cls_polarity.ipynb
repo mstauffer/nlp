{
  "cells": [
    {
      "cell_type": "markdown",
      "metadata": {
        "id": "Y8kPO65WlRgd"
      },
      "source": [
        "# BERT Text Classification - Binary dataset\n",
        "\n",
        "This experiment aims to use BERT for text classification on the Review Polarity dataset, available at The data used here is available in the [Text Collections](https://github.com/ragero/text-collections/tree/master/complete_texts_csvs) Github repo.\n",
        "\n",
        "The code in this notebook was heavily inspired by the Chapter 2 of the book [Natural Language Processing with Transformers](https://www.oreilly.com/library/view/natural-language-processing/9781098136789/)."
      ]
    },
    {
      "cell_type": "markdown",
      "metadata": {
        "id": "z-wBY2_EAUle"
      },
      "source": [
        "## Dependencies installation"
      ]
    },
    {
      "cell_type": "code",
      "execution_count": null,
      "metadata": {
        "id": "FDAadkKL9f2p"
      },
      "outputs": [],
      "source": [
        "!pip install datasets evaluate accelerate\n",
        "!pip install \"numpy<2.0\""
      ]
    },
    {
      "cell_type": "markdown",
      "metadata": {
        "id": "may0nEYtAe-e"
      },
      "source": [
        "## Data"
      ]
    },
    {
      "cell_type": "code",
      "execution_count": null,
      "metadata": {
        "colab": {
          "base_uri": "https://localhost:8080/",
          "height": 49,
          "referenced_widgets": [
            "316004833f7d41089cc4c74301190d32",
            "efcb8c21d68248e8bd596f79f2766d59",
            "47c8f30393b14da5b783ea6afb7b9847",
            "c08398bad89a43c78b0e843702925710",
            "9f19bc2b38df4644a9e47cfa9ac97d39",
            "2827f931df624596ae4fc499c3a6b02c",
            "d215b1a9acda45eb8656343a8ef2dfff",
            "983657d368d84877b0599a228e0aeb48",
            "8d528f1218fe4686bf258c051dcf577c",
            "8809688a31fe4b1d9f793e76125e4b3f",
            "4d37487d7c8a4b3caf7280c648739428"
          ]
        },
        "id": "G_l8K2J7AiMt",
        "outputId": "ff482b3a-0b8b-4f9f-c37b-3a85f01d092c"
      },
      "outputs": [],
      "source": [
        "from datasets import load_dataset, DatasetDict\n",
        "from sklearn.model_selection import train_test_split\n",
        "\n",
        "# Load the dataset\n",
        "dataset = load_dataset(\"csv\", data_files=\"/content/review_polarity.csv\")\n",
        "dataset = dataset.rename_column(\"class\", \"label\")\n",
        "\n",
        "# We want to stratify the split based on labels occurrence\n",
        "df = dataset[\"train\"].to_pandas()\n",
        "\n",
        "# Whole dataset into train (70%) and temp (30%) with stratification\n",
        "train_df, temp_df = train_test_split(df, test_size=0.30, stratify=df[\"label\"], random_state=42)\n",
        "\n",
        "# Temp into validation (10%) and test (20%) with stratification\n",
        "valid_df, test_df = train_test_split(temp_df, test_size=2/3, stratify=temp_df[\"label\"], random_state=42)\n",
        "\n",
        "# Back to HuggingFace interface\n",
        "dataset = DatasetDict({\n",
        "    'train': dataset[\"train\"].from_pandas(train_df),\n",
        "    'validation': dataset[\"train\"].from_pandas(valid_df),\n",
        "    'test': dataset[\"train\"].from_pandas(test_df)\n",
        "})"
      ]
    },
    {
      "cell_type": "code",
      "execution_count": 3,
      "metadata": {
        "colab": {
          "base_uri": "https://localhost:8080/"
        },
        "id": "Yx-RuI50A5cI",
        "outputId": "0cb13580-7a2c-43f0-ba1d-53a08075ac33"
      },
      "outputs": [
        {
          "data": {
            "text/plain": [
              "DatasetDict({\n",
              "    train: Dataset({\n",
              "        features: ['file_name', 'text', 'label', '__index_level_0__'],\n",
              "        num_rows: 1400\n",
              "    })\n",
              "    validation: Dataset({\n",
              "        features: ['file_name', 'text', 'label', '__index_level_0__'],\n",
              "        num_rows: 200\n",
              "    })\n",
              "    test: Dataset({\n",
              "        features: ['file_name', 'text', 'label', '__index_level_0__'],\n",
              "        num_rows: 400\n",
              "    })\n",
              "})"
            ]
          },
          "execution_count": 3,
          "metadata": {},
          "output_type": "execute_result"
        }
      ],
      "source": [
        "dataset"
      ]
    },
    {
      "cell_type": "markdown",
      "metadata": {
        "id": "Zw0GvdVKfKk7"
      },
      "source": [
        "## Mapping labels to integer\n",
        "\n",
        "The classification model asks for a number label instead of a string label."
      ]
    },
    {
      "cell_type": "code",
      "execution_count": 4,
      "metadata": {
        "id": "UwurydcpRcvr"
      },
      "outputs": [],
      "source": [
        "label_names = [\n",
        "    'neg',\n",
        "    'pos'\n",
        "]\n",
        "\n",
        "label_mapping = {label: idx for idx, label in enumerate(label_names)}"
      ]
    },
    {
      "cell_type": "code",
      "execution_count": 5,
      "metadata": {
        "id": "G_kfhblohuyV"
      },
      "outputs": [],
      "source": [
        "def map_to_int(example, label_mapping: dict):\n",
        "  int_label = label_mapping.get(example[\"label\"])\n",
        "  example[\"label\"] = int_label\n",
        "  return example"
      ]
    },
    {
      "cell_type": "code",
      "execution_count": 6,
      "metadata": {
        "colab": {
          "base_uri": "https://localhost:8080/"
        },
        "id": "Tip199mfQDIw",
        "outputId": "0ba35f0f-8fb5-4b30-cd8e-6f00a6b48c59"
      },
      "outputs": [
        {
          "name": "stdout",
          "output_type": "stream",
          "text": [
            "{'neg', 'pos'}\n"
          ]
        }
      ],
      "source": [
        "# sanity check for the mapping function\n",
        "labels = set()\n",
        "for elem in dataset[\"train\"]:\n",
        "  labels.add(elem[\"label\"])\n",
        "\n",
        "print(labels)"
      ]
    },
    {
      "cell_type": "code",
      "execution_count": null,
      "metadata": {
        "id": "OO6ufMTBh-7F"
      },
      "outputs": [],
      "source": [
        "dataset = dataset.map(lambda x: map_to_int(x, label_mapping))"
      ]
    },
    {
      "cell_type": "markdown",
      "metadata": {
        "id": "hbQmW8lcD-Xd"
      },
      "source": [
        "## Tokenization"
      ]
    },
    {
      "cell_type": "code",
      "execution_count": null,
      "metadata": {
        "id": "GTH_EdDqsepr"
      },
      "outputs": [],
      "source": [
        "from transformers import AutoTokenizer\n",
        "\n",
        "tokenizer = AutoTokenizer.from_pretrained(\"distilbert/distilbert-base-uncased\")"
      ]
    },
    {
      "cell_type": "code",
      "execution_count": 9,
      "metadata": {
        "colab": {
          "base_uri": "https://localhost:8080/"
        },
        "id": "YCtgZPm8EIXf",
        "outputId": "1e75ef65-55c1-4fc3-cf65-a4430d8b47f1"
      },
      "outputs": [
        {
          "name": "stdout",
          "output_type": "stream",
          "text": [
            "{'input_ids': [101, 2651, 2003, 1037, 3376, 2154, 999, 102], 'attention_mask': [1, 1, 1, 1, 1, 1, 1, 1]}\n"
          ]
        }
      ],
      "source": [
        "# tokenizer example\n",
        "s = \"Today is a beautiful day!\"\n",
        "encoded_text = tokenizer(s)\n",
        "print(encoded_text)"
      ]
    },
    {
      "cell_type": "code",
      "execution_count": 10,
      "metadata": {
        "colab": {
          "base_uri": "https://localhost:8080/"
        },
        "id": "9Z4KaV2PEdOl",
        "outputId": "cf8cdc32-6603-4668-d81c-0b770fda0be6"
      },
      "outputs": [
        {
          "name": "stdout",
          "output_type": "stream",
          "text": [
            "['[CLS]', 'today', 'is', 'a', 'beautiful', 'day', '!', '[SEP]']\n"
          ]
        }
      ],
      "source": [
        "tokens = tokenizer.convert_ids_to_tokens(encoded_text.input_ids)\n",
        "print(tokens)"
      ]
    },
    {
      "cell_type": "code",
      "execution_count": 11,
      "metadata": {
        "colab": {
          "base_uri": "https://localhost:8080/"
        },
        "id": "g-k3fU5cEfLg",
        "outputId": "c46fbb66-66d2-4eee-b106-b1962dafa01f"
      },
      "outputs": [
        {
          "name": "stdout",
          "output_type": "stream",
          "text": [
            "[CLS] today is a beautiful day! [SEP]\n"
          ]
        }
      ],
      "source": [
        "print(tokenizer.convert_tokens_to_string(tokens))"
      ]
    },
    {
      "cell_type": "markdown",
      "metadata": {
        "id": "64X11Efkik8H"
      },
      "source": [
        "Helper function to apply later."
      ]
    },
    {
      "cell_type": "code",
      "execution_count": 12,
      "metadata": {
        "id": "lpQgamq8sept"
      },
      "outputs": [],
      "source": [
        "def tokenize(examples):\n",
        "    return tokenizer(examples[\"text\"], padding=True, truncation=True)"
      ]
    },
    {
      "cell_type": "code",
      "execution_count": 13,
      "metadata": {
        "colab": {
          "base_uri": "https://localhost:8080/"
        },
        "id": "HCejq1z8sepw",
        "outputId": "0c7326cd-3c28-4dc3-af4b-1a42ff798612"
      },
      "outputs": [
        {
          "name": "stdout",
          "output_type": "stream",
          "text": [
            "{'input_ids': [101, 2160, 2006, 11171, 2940, 1006, 2639, 1007, 4626, 28117, 2063, 10667, 5620, 1010, 11023, 5481, 1010, 4862, 2474, 19418, 1010, 6904, 2213, 3489, 5553, 14416, 1010, 2848, 17297, 1010, 19218, 2618, 4267, 1010, 4098, 2566, 18337, 1010, 7059, 8840, 15878, 1010, 2508, 7733, 7747, 1010, 1998, 3782, 10645, 5794, 1012, 2856, 2011, 2520, 16321, 1010, 2517, 2011, 5980, 10506, 4783, 1010, 1000, 2160, 2006, 11171, 2940, 1000, 3988, 10057, 2993, 2000, 1996, 4378, 2007, 1037, 3496, 5994, 11798, 1011, 2066, 5177, 5022, 7866, 1998, 21054, 7435, 1999, 1996, 2175, 5134, 2102, 3971, 2825, 1012, 2028, 3460, 2003, 2730, 6880, 2044, 2383, 1037, 14745, 27653, 3294, 2083, 2010, 3300, 1012, 1037, 6821, 2038, 2014, 2132, 3140, 2046, 1037, 8460, 1997, 2300, 1012, 2122, 11240, 2015, 1997, 14106, 3591, 2024, 2066, 2216, 1999, 3025, 1038, 1011, 5469, 17312, 2015, 1010, 2007, 20696, 2075, 14950, 1998, 28353, 22208, 3560, 5750, 1012, 3272, 2023, 2051, 1010, 2012, 1996, 2203, 1997, 1996, 4971, 18595, 2819, 1010, 1996, 2143, 2003, 2445, 1996, 2373, 2000, 2265, 3599, 2129, 23512, 2122, 7329, 2064, 2022, 1012, 1999, 2627, 5469, 3152, 1010, 1996, 5025, 4028, 5019, 2024, 2187, 2041, 2030, 2025, 3491, 6932, 1996, 13972, 2000, 7868, 2037, 2219, 11808, 6703, 6677, 2005, 1996, 5292, 21112, 2015, 5694, 1012, 1000, 2160, 2006, 11171, 2940, 1000, 2987, 1005, 1056, 2215, 2037, 4378, 2000, 2031, 2019, 9647, 1010, 2673, 2003, 3024, 2005, 2068, 2000, 3422, 1998, 5490, 10179, 10867, 1010, 2025, 2228, 1012, 2023, 14652, 4808, 6908, 2041, 1997, 7880, 2003, 6854, 1996, 2087, 27150, 2112, 2055, 2023, 2143, 1012, 1000, 2160, 2006, 11171, 2940, 1000, 1010, 2029, 2003, 2241, 2006, 1996, 3845, 2143, 1997, 1996, 2168, 2516, 1010, 13999, 1037, 9210, 1997, 3494, 2004, 2855, 2004, 2009, 2064, 1010, 2206, 1996, 3098, 2668, 17037, 1012, 1996, 2143, 2038, 2053, 6808, 1997, 4346, 2839, 2458, 2030, 1037, 21360, 20782, 5436, 1012, 1996, 6614, 2182, 2003, 2000, 12665, 1996, 4378, 2007, 27017, 1010, 9223, 7171, 1997, 2668, 1010, 18453, 1010, 1998, 26865, 1012, 2174, 1010, 1996, 2143, 2003, 4445, 12459, 4496, 21446, 1012, 1996, 5436, 7336, 2274, 2111, 2040, 2024, 15048, 2000, 5247, 1996, 2305, 1999, 1037, 11171, 2160, 2005, 2028, 2454, 6363, 2011, 2019, 9778, 2380, 3954, 1006, 11023, 5481, 1007, 1012, 2169, 2839, 2003, 1037, 4945, 1999, 1996, 6327, 2088, 1998, 28049, 2008, 2027, 2052, 2079, 2505, 2005, 2008, 2769, 1012, 2144, 1996, 3494, 2024, 3202, 18960, 2004, 2593, 20505, 2030, 11922, 1010, 1996, 10908, 1997, 2040, 2097, 5788, 2030, 2025, 2003, 2730, 2274, 2781, 2044, 2017, 3113, 2068, 1012, 1996, 3291, 2003, 2008, 2296, 2839, 2003, 2025, 5622, 2912, 3468, 1012, 1996, 2048, 2040, 2272, 7541, 2000, 2108, 25825, 2024, 1037, 2450, 17629, 1006, 28117, 2063, 10667, 5620, 1011, 2040, 2323, 2022, 2725, 3152, 1037, 2843, 2488, 2084, 2023, 2007, 2035, 1997, 2010, 5848, 1007, 1998, 1037, 2449, 10169, 2040, 13385, 2108, 2450, 3550, 1006, 4862, 2474, 19418, 1007, 1012, 1996, 3494, 3591, 2024, 2061, 15703, 1998, 17203, 1010, 2008, 2009, 2003, 2524, 2000, 15138, 2005, 2068, 2030, 6978, 2068, 1012, 1996, 5409, 2839, 1999, 2023, 2143, 1010, 2030, 2672, 102], 'attention_mask': [1, 1, 1, 1, 1, 1, 1, 1, 1, 1, 1, 1, 1, 1, 1, 1, 1, 1, 1, 1, 1, 1, 1, 1, 1, 1, 1, 1, 1, 1, 1, 1, 1, 1, 1, 1, 1, 1, 1, 1, 1, 1, 1, 1, 1, 1, 1, 1, 1, 1, 1, 1, 1, 1, 1, 1, 1, 1, 1, 1, 1, 1, 1, 1, 1, 1, 1, 1, 1, 1, 1, 1, 1, 1, 1, 1, 1, 1, 1, 1, 1, 1, 1, 1, 1, 1, 1, 1, 1, 1, 1, 1, 1, 1, 1, 1, 1, 1, 1, 1, 1, 1, 1, 1, 1, 1, 1, 1, 1, 1, 1, 1, 1, 1, 1, 1, 1, 1, 1, 1, 1, 1, 1, 1, 1, 1, 1, 1, 1, 1, 1, 1, 1, 1, 1, 1, 1, 1, 1, 1, 1, 1, 1, 1, 1, 1, 1, 1, 1, 1, 1, 1, 1, 1, 1, 1, 1, 1, 1, 1, 1, 1, 1, 1, 1, 1, 1, 1, 1, 1, 1, 1, 1, 1, 1, 1, 1, 1, 1, 1, 1, 1, 1, 1, 1, 1, 1, 1, 1, 1, 1, 1, 1, 1, 1, 1, 1, 1, 1, 1, 1, 1, 1, 1, 1, 1, 1, 1, 1, 1, 1, 1, 1, 1, 1, 1, 1, 1, 1, 1, 1, 1, 1, 1, 1, 1, 1, 1, 1, 1, 1, 1, 1, 1, 1, 1, 1, 1, 1, 1, 1, 1, 1, 1, 1, 1, 1, 1, 1, 1, 1, 1, 1, 1, 1, 1, 1, 1, 1, 1, 1, 1, 1, 1, 1, 1, 1, 1, 1, 1, 1, 1, 1, 1, 1, 1, 1, 1, 1, 1, 1, 1, 1, 1, 1, 1, 1, 1, 1, 1, 1, 1, 1, 1, 1, 1, 1, 1, 1, 1, 1, 1, 1, 1, 1, 1, 1, 1, 1, 1, 1, 1, 1, 1, 1, 1, 1, 1, 1, 1, 1, 1, 1, 1, 1, 1, 1, 1, 1, 1, 1, 1, 1, 1, 1, 1, 1, 1, 1, 1, 1, 1, 1, 1, 1, 1, 1, 1, 1, 1, 1, 1, 1, 1, 1, 1, 1, 1, 1, 1, 1, 1, 1, 1, 1, 1, 1, 1, 1, 1, 1, 1, 1, 1, 1, 1, 1, 1, 1, 1, 1, 1, 1, 1, 1, 1, 1, 1, 1, 1, 1, 1, 1, 1, 1, 1, 1, 1, 1, 1, 1, 1, 1, 1, 1, 1, 1, 1, 1, 1, 1, 1, 1, 1, 1, 1, 1, 1, 1, 1, 1, 1, 1, 1, 1, 1, 1, 1, 1, 1, 1, 1, 1, 1, 1, 1, 1, 1, 1, 1, 1, 1, 1, 1, 1, 1, 1, 1, 1, 1, 1, 1, 1, 1, 1, 1, 1, 1, 1, 1, 1, 1, 1, 1, 1, 1, 1, 1, 1, 1, 1, 1, 1, 1, 1, 1, 1, 1, 1, 1, 1, 1, 1, 1, 1, 1, 1, 1, 1, 1, 1, 1, 1, 1, 1, 1, 1, 1, 1, 1, 1, 1, 1, 1, 1, 1, 1, 1, 1, 1, 1, 1]}\n"
          ]
        }
      ],
      "source": [
        "print(tokenize(dataset[\"train\"][0]))"
      ]
    },
    {
      "cell_type": "code",
      "execution_count": 14,
      "metadata": {
        "colab": {
          "base_uri": "https://localhost:8080/"
        },
        "id": "VXAjk9vmCwXW",
        "outputId": "f124ff1f-c359-446b-c8c2-74e5ee536afd"
      },
      "outputs": [
        {
          "name": "stdout",
          "output_type": "stream",
          "text": [
            "0\n"
          ]
        }
      ],
      "source": [
        "print(dataset[\"train\"][0][\"label\"])"
      ]
    },
    {
      "cell_type": "markdown",
      "metadata": {
        "id": "XLRMzKZeEvDu"
      },
      "source": [
        "For the whole data now!"
      ]
    },
    {
      "cell_type": "code",
      "execution_count": null,
      "metadata": {
        "id": "l2Hz56Ausepw"
      },
      "outputs": [],
      "source": [
        "encoded_data = dataset.map(tokenize, batched=True)"
      ]
    },
    {
      "cell_type": "code",
      "execution_count": 16,
      "metadata": {
        "colab": {
          "base_uri": "https://localhost:8080/"
        },
        "id": "dYWdryHbFYix",
        "outputId": "61c0510b-d538-49bc-d9ad-4fb1e9c4aa0f"
      },
      "outputs": [
        {
          "name": "stdout",
          "output_type": "stream",
          "text": [
            "['file_name', 'text', 'label', '__index_level_0__', 'input_ids', 'attention_mask']\n"
          ]
        }
      ],
      "source": [
        "print(encoded_data[\"train\"].column_names)"
      ]
    },
    {
      "cell_type": "code",
      "execution_count": 17,
      "metadata": {
        "colab": {
          "base_uri": "https://localhost:8080/"
        },
        "id": "HrxoPojqPGjo",
        "outputId": "6f3259f6-dac9-4db2-951c-0d1126c7f87b"
      },
      "outputs": [
        {
          "data": {
            "text/plain": [
              "DatasetDict({\n",
              "    train: Dataset({\n",
              "        features: ['file_name', 'text', 'label', '__index_level_0__', 'input_ids', 'attention_mask'],\n",
              "        num_rows: 1400\n",
              "    })\n",
              "    validation: Dataset({\n",
              "        features: ['file_name', 'text', 'label', '__index_level_0__', 'input_ids', 'attention_mask'],\n",
              "        num_rows: 200\n",
              "    })\n",
              "    test: Dataset({\n",
              "        features: ['file_name', 'text', 'label', '__index_level_0__', 'input_ids', 'attention_mask'],\n",
              "        num_rows: 400\n",
              "    })\n",
              "})"
            ]
          },
          "execution_count": 17,
          "metadata": {},
          "output_type": "execute_result"
        }
      ],
      "source": [
        "encoded_data"
      ]
    },
    {
      "cell_type": "markdown",
      "metadata": {
        "id": "KtY64mkGFhbj"
      },
      "source": [
        "## Training"
      ]
    },
    {
      "cell_type": "code",
      "execution_count": null,
      "metadata": {
        "id": "qpQo7E3AFo1P"
      },
      "outputs": [],
      "source": [
        "from transformers import AutoModel\n",
        "import torch\n",
        "\n",
        "model_ckpt = \"distilbert-base-uncased\"\n",
        "device = torch.device(\"cuda\" if torch.cuda.is_available() else \"cpu\")\n",
        "model = AutoModel.from_pretrained(model_ckpt).to(device)"
      ]
    },
    {
      "cell_type": "code",
      "execution_count": 19,
      "metadata": {
        "colab": {
          "base_uri": "https://localhost:8080/"
        },
        "id": "6Fb6KL73F2WM",
        "outputId": "4e96a3c8-95a7-4637-d640-e85e1638af3f"
      },
      "outputs": [
        {
          "name": "stdout",
          "output_type": "stream",
          "text": [
            "Input tensor shape: torch.Size([1, 6])\n"
          ]
        }
      ],
      "source": [
        "text = \"this is a test\"\n",
        "inputs = tokenizer(text, return_tensors=\"pt\")\n",
        "print(f\"Input tensor shape: {inputs['input_ids'].size()}\")"
      ]
    },
    {
      "cell_type": "code",
      "execution_count": 20,
      "metadata": {
        "colab": {
          "base_uri": "https://localhost:8080/"
        },
        "id": "WJmSJb8ZF6tG",
        "outputId": "47747afd-86b8-42ed-84c2-a4b4e1db0cfb"
      },
      "outputs": [
        {
          "name": "stdout",
          "output_type": "stream",
          "text": [
            "BaseModelOutput(last_hidden_state=tensor([[[-0.1565, -0.1862,  0.0528,  ..., -0.1188,  0.0662,  0.5470],\n",
            "         [-0.3575, -0.6484, -0.0618,  ..., -0.3040,  0.3508,  0.5221],\n",
            "         [-0.2772, -0.4459,  0.1818,  ..., -0.0948, -0.0076,  0.9958],\n",
            "         [-0.2841, -0.3917,  0.3753,  ..., -0.2151, -0.1173,  1.0526],\n",
            "         [ 0.2661, -0.5094, -0.3180,  ..., -0.4203,  0.0144, -0.2149],\n",
            "         [ 0.9441,  0.0112, -0.4714,  ...,  0.1439, -0.7288, -0.1619]]],\n",
            "       device='cuda:0'), hidden_states=None, attentions=None)\n"
          ]
        }
      ],
      "source": [
        "inputs = {k:v.to(device) for k,v in inputs.items()}\n",
        "with torch.no_grad():\n",
        "    outputs = model(**inputs)\n",
        "    print(outputs)"
      ]
    },
    {
      "cell_type": "code",
      "execution_count": 21,
      "metadata": {
        "colab": {
          "base_uri": "https://localhost:8080/"
        },
        "id": "NKlSxDXwGER6",
        "outputId": "5de7d468-3f23-4f7c-edd1-d30352be2f8b"
      },
      "outputs": [
        {
          "data": {
            "text/plain": [
              "torch.Size([1, 6, 768])"
            ]
          },
          "execution_count": 21,
          "metadata": {},
          "output_type": "execute_result"
        }
      ],
      "source": [
        "outputs.last_hidden_state.size()"
      ]
    },
    {
      "cell_type": "code",
      "execution_count": 22,
      "metadata": {
        "colab": {
          "base_uri": "https://localhost:8080/"
        },
        "id": "wAiYqIFVGFZs",
        "outputId": "bfebde78-8eea-4bf8-8d42-f1f18a12b500"
      },
      "outputs": [
        {
          "data": {
            "text/plain": [
              "torch.Size([1, 768])"
            ]
          },
          "execution_count": 22,
          "metadata": {},
          "output_type": "execute_result"
        }
      ],
      "source": [
        "outputs.last_hidden_state[:,0].size()"
      ]
    },
    {
      "cell_type": "code",
      "execution_count": 23,
      "metadata": {
        "id": "Km7tXkCYGHNk"
      },
      "outputs": [],
      "source": [
        "def extract_hidden_states(batch):\n",
        "    # Place model inputs on the GPU\n",
        "    inputs = {k:v.to(device) for k,v in batch.items()\n",
        "              if k in tokenizer.model_input_names}\n",
        "    # Extract last hidden states\n",
        "    with torch.no_grad():\n",
        "        last_hidden_state = model(**inputs).last_hidden_state\n",
        "    # Return vector for [CLS] token\n",
        "    return {\"hidden_state\": last_hidden_state[:,0].cpu().numpy()}"
      ]
    },
    {
      "cell_type": "code",
      "execution_count": 24,
      "metadata": {
        "colab": {
          "base_uri": "https://localhost:8080/"
        },
        "id": "nqJib7f_Gyor",
        "outputId": "cd2aa37a-5d0f-45da-bb48-60738d3ec941"
      },
      "outputs": [
        {
          "data": {
            "text/plain": [
              "['file_name',\n",
              " 'text',\n",
              " 'label',\n",
              " '__index_level_0__',\n",
              " 'input_ids',\n",
              " 'attention_mask']"
            ]
          },
          "execution_count": 24,
          "metadata": {},
          "output_type": "execute_result"
        }
      ],
      "source": [
        "encoded_data[\"train\"].column_names"
      ]
    },
    {
      "cell_type": "code",
      "execution_count": 25,
      "metadata": {
        "id": "Atao05OnGdVL"
      },
      "outputs": [],
      "source": [
        "encoded_data.set_format(\"torch\", columns=['file_name', 'text', 'label', 'input_ids', 'attention_mask'])"
      ]
    },
    {
      "cell_type": "code",
      "execution_count": null,
      "metadata": {
        "id": "M6buRSSWGlss"
      },
      "outputs": [],
      "source": [
        "data_hidden = encoded_data.map(extract_hidden_states, batched=True, batch_size=100)"
      ]
    },
    {
      "cell_type": "code",
      "execution_count": 27,
      "metadata": {
        "colab": {
          "base_uri": "https://localhost:8080/"
        },
        "id": "UOAKUfDHGlmH",
        "outputId": "cd6acc54-c16c-4a34-e5ed-29b802d03632"
      },
      "outputs": [
        {
          "data": {
            "text/plain": [
              "['file_name',\n",
              " 'text',\n",
              " 'label',\n",
              " '__index_level_0__',\n",
              " 'input_ids',\n",
              " 'attention_mask',\n",
              " 'hidden_state']"
            ]
          },
          "execution_count": 27,
          "metadata": {},
          "output_type": "execute_result"
        }
      ],
      "source": [
        "data_hidden[\"train\"].column_names"
      ]
    },
    {
      "cell_type": "code",
      "execution_count": 28,
      "metadata": {
        "colab": {
          "base_uri": "https://localhost:8080/"
        },
        "id": "E8zj9EG4I-Q-",
        "outputId": "021d10ad-4a19-4635-8808-2768fa354030"
      },
      "outputs": [
        {
          "data": {
            "text/plain": [
              "tensor([ 2.1046e-02, -2.2995e-01,  4.8103e-02, -8.1167e-02, -5.9964e-02,\n",
              "        -8.3196e-02,  3.3762e-01, -8.5760e-02,  2.5040e-03,  1.8974e-03,\n",
              "        -1.0378e-02, -1.4504e-01, -1.2628e-01,  4.6319e-01, -3.7452e-02,\n",
              "         2.7707e-01,  8.9177e-02,  2.4613e-01,  6.6197e-02, -1.5857e-01,\n",
              "        -7.4846e-03, -3.2314e-01,  3.4620e-01,  3.6076e-01, -3.7959e-01,\n",
              "         3.4171e-02,  3.7418e-02, -2.3746e-02,  5.0614e-02,  7.5202e-02,\n",
              "         2.3202e-01, -6.1219e-02, -2.5068e-01, -4.5994e-01,  1.6415e-01,\n",
              "        -3.3903e-01, -1.0373e-01, -5.3935e-02,  4.6981e-02,  2.3073e-02,\n",
              "         3.6309e-02,  1.7253e-01,  2.6399e-02, -3.9262e-01, -9.5592e-02,\n",
              "        -3.7309e-01, -3.1044e+00,  3.6653e-02, -4.0894e-01, -1.9397e-02,\n",
              "         3.0404e-01,  1.6312e-01,  9.2964e-02,  1.7615e-01,  3.6439e-01,\n",
              "         2.6084e-01, -4.1530e-01,  3.0622e-01,  3.0697e-03,  2.0341e-01,\n",
              "         2.5906e-01,  1.3314e-01, -1.1581e-01, -1.3612e-01, -1.0306e-01,\n",
              "         1.5431e-02, -3.2213e-01,  3.0001e-01, -1.8019e-01,  3.7526e-01,\n",
              "        -3.0404e-01, -1.5604e-01, -1.2676e-01, -1.1251e-01,  9.7428e-03,\n",
              "        -3.4780e-01,  1.3576e-01,  2.9763e-01, -4.5871e-01,  1.0612e-01,\n",
              "         2.7691e-01,  2.4176e-01,  4.9472e-01,  3.0488e-01, -1.8750e-01,\n",
              "         1.9407e-01,  2.4755e-02,  1.5370e-01,  2.0701e-01,  3.1494e-01,\n",
              "        -4.2516e-01, -1.2584e-01, -1.2156e-01,  1.4560e-01,  3.4922e-01,\n",
              "        -3.8863e-01,  1.6683e-01,  7.6966e-02,  3.1643e-01,  3.0782e-01,\n",
              "         2.4059e-01, -7.6598e-02,  9.4772e-02, -8.0358e-01,  6.9199e-02,\n",
              "        -1.7258e-01,  5.5633e-02, -3.1901e-01, -1.6421e-01, -1.9954e+00,\n",
              "         1.1804e-01,  5.2476e-01, -5.1924e-02, -3.5767e-01, -2.2151e-01,\n",
              "         3.6540e-02,  1.3093e-01, -3.2150e-01, -2.7977e-01,  1.7451e-01,\n",
              "         1.6911e-01,  7.2766e-02, -1.5957e-01, -9.2480e-03, -5.6661e-02,\n",
              "         4.9464e-01, -6.8154e-02, -1.0290e-01,  7.2058e-02,  2.9746e-01,\n",
              "         6.1578e-01,  2.6563e-01, -1.1067e-01, -1.8369e-01, -2.5652e-01,\n",
              "         4.4809e-01,  1.1288e-01,  1.6377e-01, -1.5535e-01,  2.8180e-02,\n",
              "        -2.4362e-01, -4.3541e-01, -2.8561e+00,  5.0771e-01,  5.6210e-01,\n",
              "         1.2835e-01,  1.3565e-01,  8.3649e-02,  6.2230e-02, -3.5431e-02,\n",
              "         6.7700e-02,  2.1586e-01, -1.6508e-01, -4.2729e-01, -8.6461e-02,\n",
              "         2.8187e-01, -1.4092e-01,  3.6722e-02,  3.0189e-01, -1.2203e-01,\n",
              "         5.5833e-01,  3.8825e-02, -3.1845e-01, -1.7698e-01,  3.6522e-01,\n",
              "         7.8985e-02,  2.6216e-01, -2.5674e-01, -3.1927e-02,  9.0642e-02,\n",
              "        -1.0119e-01,  3.4491e-01,  4.0662e-01, -1.2807e-01,  3.4263e-01,\n",
              "        -1.2290e-01,  9.7438e-02,  3.4388e-01, -7.2402e-03, -2.8774e-03,\n",
              "        -5.9990e-01,  6.4612e-01, -7.7442e-02,  5.9206e-02, -2.6453e-01,\n",
              "        -1.1973e-01,  6.4342e-02, -3.7334e-01, -2.0941e-01,  1.7385e-02,\n",
              "        -1.0477e-01, -2.5582e-01, -2.3458e-01, -1.3318e-01,  5.5225e-01,\n",
              "         4.3467e-02,  5.1561e-02, -3.0127e-01,  1.5393e-01,  2.5580e-01,\n",
              "        -2.9213e-01, -6.1338e-02,  9.3119e-02,  3.3219e-01, -2.8815e-01,\n",
              "         3.3256e+00, -5.1986e-02,  4.1545e-02,  2.2845e-01,  3.1328e-01,\n",
              "         1.6214e-02, -2.9385e-01, -2.6675e-02, -1.3198e-01,  2.4396e-01,\n",
              "         1.6198e-01,  1.2863e-01, -2.4248e-01,  6.8409e-02,  5.8108e-03,\n",
              "         1.9895e-01,  2.2320e-01, -2.8733e-04, -1.6046e-02, -2.7358e-01,\n",
              "         2.0847e-01, -6.3432e-02,  3.1045e-01,  4.0203e-01, -1.3767e+00,\n",
              "         8.7687e-02,  2.3611e-01, -2.6389e-01,  3.9434e-01, -2.6147e-01,\n",
              "        -3.1221e-02,  5.9227e-02,  5.9019e-03, -5.1393e-04, -1.9645e-01,\n",
              "        -4.7436e-02,  1.5564e-01,  1.3897e-01,  2.9425e-01,  5.5790e-02,\n",
              "         7.7606e-02,  3.4627e-01, -1.1153e-03, -1.7628e-01, -1.0510e-01,\n",
              "         4.4011e-02,  2.3768e-01,  6.5756e-02,  2.7122e-02,  4.2735e-01,\n",
              "         3.3322e-01,  5.5095e-02, -2.0375e-01, -1.2534e-01, -3.3048e-01,\n",
              "        -1.7936e-01,  1.2336e-01,  5.0534e-02,  1.7267e-01, -9.0136e-01,\n",
              "         6.2826e-03, -2.0889e-01, -3.4430e-01, -1.3732e-01,  1.9627e-01,\n",
              "        -1.8941e-01, -1.2381e-01, -5.0379e-01, -2.7427e+00, -3.4782e-02,\n",
              "        -2.8853e-01,  4.3534e-01, -4.6101e-02,  2.2329e-01,  1.2612e-01,\n",
              "         3.5737e-02,  3.0507e-01, -2.4454e-01,  2.5126e-01,  2.4479e-02,\n",
              "        -3.9136e-02,  2.3444e-01, -5.4890e-01,  5.2485e-01,  6.7700e-02,\n",
              "        -3.5125e-01, -3.0357e-02, -2.0072e-01, -2.6204e-01, -5.3382e-02,\n",
              "        -8.9621e-02,  9.6072e-02,  1.0735e-01,  2.1571e-01, -2.7475e-01,\n",
              "        -6.2403e-01,  5.9208e-02,  3.7680e-01,  1.7041e-02,  7.9744e-02,\n",
              "         2.3284e-01, -1.8825e-01, -2.1437e-01, -3.2630e+00,  1.2939e-01,\n",
              "        -7.1316e-02, -3.7550e-02,  1.7349e-01, -6.0105e-03,  5.2120e-01,\n",
              "        -2.4798e-01, -2.9602e-01,  1.3226e-01,  6.7632e-02, -7.8205e-02,\n",
              "         1.2513e-01,  5.8879e-02,  1.1635e-01, -2.3881e-01,  1.1869e-01,\n",
              "        -7.3947e-02,  7.0173e-02,  1.9665e-01, -1.6735e-01, -1.3259e-01,\n",
              "        -2.7848e-02, -1.7531e-01, -3.0416e-02,  4.1122e-01, -6.1995e-01,\n",
              "         3.6980e-02, -1.3248e-01, -3.2516e-01, -3.8730e-02, -6.2746e-01,\n",
              "        -2.4214e-01, -5.6419e-03, -2.7595e-01, -5.6273e-02, -1.3272e-01,\n",
              "         5.2680e-02,  4.2522e-01, -1.0331e-01, -2.3246e-01,  9.0391e-01,\n",
              "         2.4535e-02, -1.1281e-01,  7.3406e-01, -5.4980e-05,  2.2946e-01,\n",
              "        -1.3429e-01, -1.6419e-02,  1.4918e-01,  2.7637e-01,  2.0136e-01,\n",
              "         1.2827e+00,  1.4516e-01,  3.1903e-01, -1.8138e-01,  2.4890e-01,\n",
              "        -2.6499e-02, -2.5187e-01,  1.8072e-01,  2.6251e-01, -2.9904e-01,\n",
              "         1.0789e-01, -9.2335e-02,  2.5026e-01, -4.0742e-01,  3.7705e-01,\n",
              "        -2.7377e-01,  3.6407e-03, -2.6464e-01, -1.8077e-01,  1.7736e-01,\n",
              "        -3.9676e-02, -6.2488e-01, -1.8893e-01, -3.5827e-01,  1.0059e-01,\n",
              "        -9.0028e-03, -2.1211e-01,  3.3974e-02, -5.8768e-01,  6.3937e-02,\n",
              "        -4.7026e-02,  1.5793e-01, -2.3530e-01, -9.4237e-02, -9.6218e-02,\n",
              "        -2.6174e-02, -2.1295e-01,  3.1179e-02, -3.2059e-01,  2.8347e-01,\n",
              "         1.0465e-02,  5.9019e-02, -4.6477e-01, -1.4766e-01,  2.9417e-01,\n",
              "        -7.7087e-01,  2.1301e-01, -1.0913e-01,  1.2286e-01, -5.9755e-01,\n",
              "        -1.1797e-01, -2.5999e-01, -2.5572e-01, -3.9610e-01,  1.1079e-01,\n",
              "         6.4704e-01, -1.2933e-01, -4.6844e-03, -3.1960e-01,  1.6511e-01,\n",
              "         3.4616e-02,  6.1089e-03,  1.0803e+00, -1.4566e-01, -2.3586e-02,\n",
              "         4.0338e-01,  1.3345e-01,  2.4006e-01,  1.3937e-01,  2.0069e-01,\n",
              "        -3.3384e-02,  2.8848e-01,  1.8115e-01, -5.3683e-02,  4.1591e-02,\n",
              "        -1.5550e-01, -8.2126e-02,  3.0011e-02, -5.6641e-02, -7.2044e-02,\n",
              "        -2.6469e-01, -4.5159e-01, -3.5790e-02, -4.6244e-01, -5.6823e-02,\n",
              "         4.9838e-02,  2.8737e-01,  8.4730e-02,  4.3385e-01,  1.2391e-01,\n",
              "         1.2377e-01,  3.8968e-01,  8.0227e-02,  2.9556e-01,  1.5450e-01,\n",
              "         2.6750e-01,  2.5549e-02,  1.4108e-01,  2.2316e-01,  2.8900e-01,\n",
              "         1.7763e-01, -3.7845e-01,  2.6665e-01,  1.5580e-01, -4.1203e-01,\n",
              "         2.4690e-01, -1.3144e-01,  7.2818e-03,  4.7987e-01,  1.3165e-01,\n",
              "        -2.0881e+00,  9.5006e-02,  2.7516e-02, -1.2071e-02, -1.8472e-01,\n",
              "        -8.9261e-02, -1.0695e-01,  1.9491e-01,  6.8953e-02,  2.2998e-01,\n",
              "        -3.3132e-02,  3.3549e-02,  1.0660e-01, -3.2411e-01, -8.8382e-02,\n",
              "        -7.1958e-02, -2.1750e-01,  3.3188e-01, -1.9209e-02, -7.2337e-02,\n",
              "        -4.2713e-01,  3.9003e-01,  7.5328e-02,  3.1696e-02, -2.1808e-01,\n",
              "        -4.9998e-02, -1.9183e-01,  1.0641e-01,  2.9613e-01,  4.8097e-01,\n",
              "         1.1590e-01, -4.6204e-01, -6.4674e-01, -2.5792e-01, -2.5838e-01,\n",
              "        -1.4725e-01,  8.9933e-02, -1.4696e-01,  5.1253e-01,  3.6659e-01,\n",
              "        -7.6946e-01,  2.8007e-01,  5.8381e-01,  1.6265e-01,  8.4216e-01,\n",
              "        -3.2084e-02, -6.3849e-02,  3.1942e-01, -1.2048e-01, -1.8330e-01,\n",
              "        -1.8995e-02, -1.9260e-01, -1.4905e-01, -1.5125e-01,  1.8895e-02,\n",
              "        -2.9373e-01,  2.4013e-01,  2.3288e-01, -1.5942e-01, -5.1738e-01,\n",
              "         2.6538e-01, -2.3486e-01, -5.3721e-01,  2.0596e-01, -8.1260e-02,\n",
              "        -9.7166e-01,  3.1419e-02, -8.5008e-02,  1.6642e-01, -1.7312e-01,\n",
              "         3.6693e-01,  1.7413e-01, -6.6835e-01,  5.8366e-02, -2.0037e-01,\n",
              "         6.3040e-02, -5.1943e-03,  2.8936e-01, -4.7397e-02,  3.7798e-02,\n",
              "         4.4533e-01,  1.2069e-01,  1.4921e-01,  4.9737e-01, -3.3639e-01,\n",
              "        -4.2331e-02, -4.4572e-01, -1.6256e-01, -1.8705e-01,  9.3019e-02,\n",
              "        -1.3324e-01, -8.8091e-02,  1.0539e-01, -1.8467e-01,  2.2755e-01,\n",
              "        -1.1419e-01,  1.5129e-02, -1.7123e-01, -2.6758e-02, -2.6687e-01,\n",
              "        -7.4725e-02,  1.4320e-01,  4.4910e-01,  1.8348e-01,  2.6348e-01,\n",
              "         2.4039e-01,  2.0234e-01,  1.3977e-01, -2.5155e-01,  1.0619e-01,\n",
              "         6.2409e-02, -1.2197e-01,  8.4460e-02,  2.4440e-01,  3.7721e-02,\n",
              "        -4.2981e-01, -2.3307e-01, -3.8571e-01,  1.9895e+00,  5.6720e-01,\n",
              "        -5.7175e-02,  4.9706e-02,  2.5373e-01, -2.8763e-02,  1.2846e-01,\n",
              "         3.5943e-01,  1.1881e-01,  3.9291e-01, -4.9941e-02,  1.0893e-01,\n",
              "         1.4235e-02,  3.7040e-02,  4.3893e-01,  7.0314e-02,  2.8626e-01,\n",
              "         1.6979e-02, -6.2137e-01, -4.8100e-02, -4.9212e-01,  2.6933e-02,\n",
              "         3.2373e-01, -1.9540e-01, -1.5054e-01, -1.1890e-01,  9.7069e-02,\n",
              "        -7.3558e-02, -3.8132e-02,  4.2929e-01, -3.0735e-03,  3.4638e-01,\n",
              "         1.0923e-01,  3.0402e-01, -1.8953e-01,  1.5538e-01,  1.4099e-01,\n",
              "        -9.8011e-02, -2.8760e-01, -1.3889e-01,  9.8702e-02, -2.6769e-01,\n",
              "         3.2915e-01, -4.0875e-01,  1.0375e-01,  5.4841e-01,  1.3519e-01,\n",
              "        -1.6678e-01,  2.3525e-01,  4.4689e-01,  2.7291e-02, -1.0422e-01,\n",
              "        -3.7449e-01,  2.2596e-01, -3.8871e-01,  2.6704e-01, -1.2209e-01,\n",
              "         3.8057e-02,  9.3039e-02,  1.6097e-01, -1.7542e-01,  4.6405e-01,\n",
              "         2.4225e-01,  3.9651e-02,  1.3350e-01,  9.4039e-02,  1.0383e-01,\n",
              "         1.7815e-01,  9.0888e-02, -1.4922e-01, -1.1310e-02,  3.3125e-01,\n",
              "         4.6913e-01,  3.3717e-01,  6.1054e-01,  3.4034e-01,  4.9137e-01,\n",
              "         2.0156e-02, -2.0369e-01, -1.9746e+00,  9.2568e-02,  1.4606e-02,\n",
              "         4.4414e-01,  1.2974e-01,  4.5069e-01,  3.4032e-01, -3.5431e-01,\n",
              "         1.0934e-02, -8.3845e-02,  1.1416e-01,  5.5957e-01,  6.0981e-01,\n",
              "        -8.9012e-02, -1.0513e-01,  2.3685e-01,  4.7284e-01, -3.9915e-02,\n",
              "        -1.5301e-01, -1.9491e-01,  8.1530e-02,  4.2519e-02,  1.5421e-01,\n",
              "        -3.7743e-01, -4.7665e-01,  2.0883e-01,  1.7951e-01, -5.0871e-02,\n",
              "         1.8203e-01,  3.7917e-01, -2.9298e-01,  3.7882e-01, -2.7381e-01,\n",
              "        -1.6266e-01, -6.6400e-02, -3.0278e-01, -5.3827e-02,  4.4539e-02,\n",
              "        -1.5372e-01, -1.6093e-01, -5.2348e-02,  6.2927e-01,  5.1653e-02,\n",
              "        -1.2106e-01,  2.3870e-01, -9.9327e-02,  6.2376e-01, -1.9755e-01,\n",
              "         4.1959e-01, -2.9174e-01,  7.1065e-04,  1.7340e-01,  3.0469e-01,\n",
              "         1.9793e-01,  1.0963e-01,  1.3657e-01, -2.0521e-01,  9.8170e-02,\n",
              "        -3.3265e-02, -3.5513e-01, -5.4689e-01, -4.3234e-02, -7.4284e-02,\n",
              "        -7.5773e-03,  1.9531e-02, -5.0359e-01, -2.2259e-01, -8.3491e-02,\n",
              "        -5.5886e-01, -6.2946e-02, -8.6558e-02, -2.5042e-01,  3.2006e-01,\n",
              "        -4.9894e-02,  8.4461e-02, -4.5163e-02,  2.9184e-01,  6.6785e-01,\n",
              "         2.9761e-01, -8.1033e-02, -6.9850e-02, -2.4990e-01, -1.4219e-01,\n",
              "        -1.9996e-01,  2.2838e-01, -5.6799e+00, -4.4997e-01, -1.3241e-01,\n",
              "         2.8738e-01, -9.9712e-02, -3.6005e-01,  6.4233e-02, -3.9998e-01,\n",
              "        -8.2229e-02, -1.7440e-01, -3.8301e-01,  4.5592e-01,  8.7428e-03,\n",
              "         1.2995e-01,  5.2791e-01,  4.5171e-01])"
            ]
          },
          "execution_count": 28,
          "metadata": {},
          "output_type": "execute_result"
        }
      ],
      "source": [
        "data_hidden[\"train\"][\"hidden_state\"][0]"
      ]
    },
    {
      "cell_type": "markdown",
      "metadata": {
        "id": "89qY-mHDmbU1"
      },
      "source": [
        "Here we select the type of fine-tuning that we want to apply. For a text classification task, we can go with a Sequence Classification flavor in the HuggingFace framework."
      ]
    },
    {
      "cell_type": "code",
      "execution_count": 29,
      "metadata": {
        "colab": {
          "base_uri": "https://localhost:8080/"
        },
        "id": "epZeuA-NJGMQ",
        "outputId": "1da7ef9d-909b-4764-9612-7a9c5f9e4ad3"
      },
      "outputs": [
        {
          "name": "stderr",
          "output_type": "stream",
          "text": [
            "Some weights of DistilBertForSequenceClassification were not initialized from the model checkpoint at distilbert-base-uncased and are newly initialized: ['classifier.bias', 'classifier.weight', 'pre_classifier.bias', 'pre_classifier.weight']\n",
            "You should probably TRAIN this model on a down-stream task to be able to use it for predictions and inference.\n"
          ]
        }
      ],
      "source": [
        "from transformers import AutoModelForSequenceClassification\n",
        "num_labels = 2\n",
        "model = (AutoModelForSequenceClassification\n",
        "         .from_pretrained(model_ckpt, num_labels=num_labels)\n",
        "         .to(device))"
      ]
    },
    {
      "cell_type": "code",
      "execution_count": 30,
      "metadata": {
        "id": "LVyPHvfoJGJ8"
      },
      "outputs": [],
      "source": [
        "from sklearn.metrics import accuracy_score, f1_score\n",
        "\n",
        "def compute_metrics(pred):\n",
        "    labels = pred.label_ids\n",
        "    preds = pred.predictions.argmax(-1)\n",
        "    f1 = f1_score(labels, preds, average=\"weighted\")\n",
        "    acc = accuracy_score(labels, preds)\n",
        "    return {\"accuracy\": acc, \"f1\": f1}"
      ]
    },
    {
      "cell_type": "code",
      "execution_count": null,
      "metadata": {
        "colab": {
          "base_uri": "https://localhost:8080/",
          "height": 17,
          "referenced_widgets": [
            "70cf26d99ec04eae84d530e5d1abb20b",
            "047114cfe2e44e239a9a05b541639329",
            "f5953149b77a4770a903cd133b15611f",
            "102a22d5c13046f6915d643b54d04038",
            "4a81e32d06534fc1be09b70855e3431d",
            "b10b3bf927544503b2e7977cf20826a1",
            "d3e259c414264c99a4e05d556c5dd58d",
            "fa47149bbec049e383e1d53b1edde9e2",
            "b5bae4ab388847a18e518f42d8d5dedb",
            "88bb2adc30824571a8b31286bfd49c59",
            "f64a615cb8e5433c8e81ec2bb1b05f49",
            "6dbe00fae921425aa7d2ad89da3778eb",
            "fb229c8625b946ddb3de022bde6b3477",
            "b4ec8f069f2b479e889e6b482c8febc6",
            "38d75eb3d69343f087c53981c4d29787",
            "d1e49a37698647f18534456258696456",
            "036a683faa9f4bc78252edab5b05fe74",
            "3cdeca533e134b84a48bb8f3038804e3",
            "ba7c5a6d937346edb808065febfb9d91",
            "bccf503a7036405896018f299b68279a"
          ]
        },
        "id": "sDWgXhAbJGHR",
        "outputId": "1c4e3c4e-2cad-48de-cf55-08149d0fbb22"
      },
      "outputs": [],
      "source": [
        "from huggingface_hub import notebook_login\n",
        "\n",
        "notebook_login()"
      ]
    },
    {
      "cell_type": "code",
      "execution_count": 32,
      "metadata": {
        "colab": {
          "base_uri": "https://localhost:8080/"
        },
        "id": "J3Xx1e6CJGBF",
        "outputId": "9f8db905-9852-419e-da4a-20fae5b50757"
      },
      "outputs": [
        {
          "name": "stderr",
          "output_type": "stream",
          "text": [
            "/usr/local/lib/python3.10/dist-packages/transformers/training_args.py:1575: FutureWarning: `evaluation_strategy` is deprecated and will be removed in version 4.46 of 🤗 Transformers. Use `eval_strategy` instead\n",
            "  warnings.warn(\n"
          ]
        }
      ],
      "source": [
        "from transformers import Trainer, TrainingArguments\n",
        "\n",
        "batch_size = 32\n",
        "logging_steps = len(encoded_data[\"train\"]) // batch_size\n",
        "model_name = f\"{model_ckpt}-finetuned-polarity\"\n",
        "\n",
        "training_args = TrainingArguments(\n",
        "    output_dir=model_name,\n",
        "    num_train_epochs=10,\n",
        "    learning_rate=2e-5,\n",
        "    per_device_train_batch_size=batch_size,\n",
        "    per_device_eval_batch_size=batch_size,\n",
        "    weight_decay=0.01,\n",
        "    evaluation_strategy=\"epoch\",\n",
        "    disable_tqdm=False,\n",
        "    logging_steps=logging_steps,\n",
        "    push_to_hub=True,\n",
        "    log_level=\"error\"\n",
        ")"
      ]
    },
    {
      "cell_type": "code",
      "execution_count": 33,
      "metadata": {
        "colab": {
          "base_uri": "https://localhost:8080/",
          "height": 652
        },
        "id": "Lc5B8_OxKCGO",
        "outputId": "633b09e7-9e29-4761-df9e-0b2c48850416"
      },
      "outputs": [
        {
          "name": "stderr",
          "output_type": "stream",
          "text": [
            "<ipython-input-33-0e1cdc339e6e>:3: FutureWarning: `tokenizer` is deprecated and will be removed in version 5.0.0 for `Trainer.__init__`. Use `processing_class` instead.\n",
            "  trainer = Trainer(\n",
            "\u001b[34m\u001b[1mwandb\u001b[0m: \u001b[33mWARNING\u001b[0m The `run_name` is currently set to the same value as `TrainingArguments.output_dir`. If this was not intended, please specify a different run name by setting the `TrainingArguments.run_name` parameter.\n",
            "\u001b[34m\u001b[1mwandb\u001b[0m: Using wandb-core as the SDK backend.  Please refer to https://wandb.me/wandb-core for more information.\n"
          ]
        },
        {
          "data": {
            "application/javascript": "\n        window._wandbApiKey = new Promise((resolve, reject) => {\n            function loadScript(url) {\n            return new Promise(function(resolve, reject) {\n                let newScript = document.createElement(\"script\");\n                newScript.onerror = reject;\n                newScript.onload = resolve;\n                document.body.appendChild(newScript);\n                newScript.src = url;\n            });\n            }\n            loadScript(\"https://cdn.jsdelivr.net/npm/postmate/build/postmate.min.js\").then(() => {\n            const iframe = document.createElement('iframe')\n            iframe.style.cssText = \"width:0;height:0;border:none\"\n            document.body.appendChild(iframe)\n            const handshake = new Postmate({\n                container: iframe,\n                url: 'https://wandb.ai/authorize'\n            });\n            const timeout = setTimeout(() => reject(\"Couldn't auto authenticate\"), 5000)\n            handshake.then(function(child) {\n                child.on('authorize', data => {\n                    clearTimeout(timeout)\n                    resolve(data)\n                });\n            });\n            })\n        });\n    ",
            "text/plain": [
              "<IPython.core.display.Javascript object>"
            ]
          },
          "metadata": {},
          "output_type": "display_data"
        },
        {
          "name": "stderr",
          "output_type": "stream",
          "text": [
            "\u001b[34m\u001b[1mwandb\u001b[0m: Logging into wandb.ai. (Learn how to deploy a W&B server locally: https://wandb.me/wandb-server)\n",
            "\u001b[34m\u001b[1mwandb\u001b[0m: You can find your API key in your browser here: https://wandb.ai/authorize\n",
            "wandb: Paste an API key from your profile and hit enter, or press ctrl+c to quit:"
          ]
        },
        {
          "name": "stdout",
          "output_type": "stream",
          "text": [
            " ··········\n"
          ]
        },
        {
          "name": "stderr",
          "output_type": "stream",
          "text": [
            "\u001b[34m\u001b[1mwandb\u001b[0m: Appending key for api.wandb.ai to your netrc file: /root/.netrc\n"
          ]
        },
        {
          "data": {
            "text/html": [
              "Tracking run with wandb version 0.19.1"
            ],
            "text/plain": [
              "<IPython.core.display.HTML object>"
            ]
          },
          "metadata": {},
          "output_type": "display_data"
        },
        {
          "data": {
            "text/html": [
              "Run data is saved locally in <code>/content/wandb/run-20250211_012426-n00pa07p</code>"
            ],
            "text/plain": [
              "<IPython.core.display.HTML object>"
            ]
          },
          "metadata": {},
          "output_type": "display_data"
        },
        {
          "data": {
            "text/html": [
              "Syncing run <strong><a href='https://wandb.ai/mstauffer/huggingface/runs/n00pa07p' target=\"_blank\">distilbert-base-uncased-finetuned-polarity</a></strong> to <a href='https://wandb.ai/mstauffer/huggingface' target=\"_blank\">Weights & Biases</a> (<a href='https://wandb.me/developer-guide' target=\"_blank\">docs</a>)<br>"
            ],
            "text/plain": [
              "<IPython.core.display.HTML object>"
            ]
          },
          "metadata": {},
          "output_type": "display_data"
        },
        {
          "data": {
            "text/html": [
              " View project at <a href='https://wandb.ai/mstauffer/huggingface' target=\"_blank\">https://wandb.ai/mstauffer/huggingface</a>"
            ],
            "text/plain": [
              "<IPython.core.display.HTML object>"
            ]
          },
          "metadata": {},
          "output_type": "display_data"
        },
        {
          "data": {
            "text/html": [
              " View run at <a href='https://wandb.ai/mstauffer/huggingface/runs/n00pa07p' target=\"_blank\">https://wandb.ai/mstauffer/huggingface/runs/n00pa07p</a>"
            ],
            "text/plain": [
              "<IPython.core.display.HTML object>"
            ]
          },
          "metadata": {},
          "output_type": "display_data"
        },
        {
          "data": {
            "text/html": [
              "\n",
              "    <div>\n",
              "      \n",
              "      <progress value='440' max='440' style='width:300px; height:20px; vertical-align: middle;'></progress>\n",
              "      [440/440 11:46, Epoch 10/10]\n",
              "    </div>\n",
              "    <table border=\"1\" class=\"dataframe\">\n",
              "  <thead>\n",
              " <tr style=\"text-align: left;\">\n",
              "      <th>Epoch</th>\n",
              "      <th>Training Loss</th>\n",
              "      <th>Validation Loss</th>\n",
              "      <th>Accuracy</th>\n",
              "      <th>F1</th>\n",
              "    </tr>\n",
              "  </thead>\n",
              "  <tbody>\n",
              "    <tr>\n",
              "      <td>1</td>\n",
              "      <td>0.615700</td>\n",
              "      <td>0.407268</td>\n",
              "      <td>0.840000</td>\n",
              "      <td>0.839212</td>\n",
              "    </tr>\n",
              "    <tr>\n",
              "      <td>2</td>\n",
              "      <td>0.357800</td>\n",
              "      <td>0.348729</td>\n",
              "      <td>0.855000</td>\n",
              "      <td>0.853945</td>\n",
              "    </tr>\n",
              "    <tr>\n",
              "      <td>3</td>\n",
              "      <td>0.222400</td>\n",
              "      <td>0.357987</td>\n",
              "      <td>0.855000</td>\n",
              "      <td>0.853384</td>\n",
              "    </tr>\n",
              "    <tr>\n",
              "      <td>4</td>\n",
              "      <td>0.132200</td>\n",
              "      <td>0.329244</td>\n",
              "      <td>0.880000</td>\n",
              "      <td>0.879988</td>\n",
              "    </tr>\n",
              "    <tr>\n",
              "      <td>5</td>\n",
              "      <td>0.075100</td>\n",
              "      <td>0.404694</td>\n",
              "      <td>0.870000</td>\n",
              "      <td>0.869883</td>\n",
              "    </tr>\n",
              "    <tr>\n",
              "      <td>6</td>\n",
              "      <td>0.052300</td>\n",
              "      <td>0.452403</td>\n",
              "      <td>0.875000</td>\n",
              "      <td>0.874847</td>\n",
              "    </tr>\n",
              "    <tr>\n",
              "      <td>7</td>\n",
              "      <td>0.021500</td>\n",
              "      <td>0.505548</td>\n",
              "      <td>0.875000</td>\n",
              "      <td>0.874922</td>\n",
              "    </tr>\n",
              "    <tr>\n",
              "      <td>8</td>\n",
              "      <td>0.014100</td>\n",
              "      <td>0.534129</td>\n",
              "      <td>0.875000</td>\n",
              "      <td>0.874997</td>\n",
              "    </tr>\n",
              "    <tr>\n",
              "      <td>9</td>\n",
              "      <td>0.019600</td>\n",
              "      <td>0.550781</td>\n",
              "      <td>0.875000</td>\n",
              "      <td>0.874997</td>\n",
              "    </tr>\n",
              "    <tr>\n",
              "      <td>10</td>\n",
              "      <td>0.008000</td>\n",
              "      <td>0.569435</td>\n",
              "      <td>0.875000</td>\n",
              "      <td>0.874997</td>\n",
              "    </tr>\n",
              "  </tbody>\n",
              "</table><p>"
            ],
            "text/plain": [
              "<IPython.core.display.HTML object>"
            ]
          },
          "metadata": {},
          "output_type": "display_data"
        }
      ],
      "source": [
        "from transformers import Trainer\n",
        "\n",
        "trainer = Trainer(\n",
        "    model=model, args=training_args,\n",
        "    compute_metrics=compute_metrics,\n",
        "    train_dataset=encoded_data[\"train\"],\n",
        "    eval_dataset=encoded_data[\"validation\"],\n",
        "    tokenizer=tokenizer\n",
        ")\n",
        "\n",
        "trainer.train();"
      ]
    },
    {
      "cell_type": "code",
      "execution_count": null,
      "metadata": {
        "id": "uarqqyX-TNDg"
      },
      "outputs": [],
      "source": [
        "trainer.push_to_hub()"
      ]
    },
    {
      "cell_type": "markdown",
      "metadata": {
        "id": "dwveeCFck-Rv"
      },
      "source": [
        "## Evaluation"
      ]
    },
    {
      "cell_type": "code",
      "execution_count": 35,
      "metadata": {
        "colab": {
          "base_uri": "https://localhost:8080/",
          "height": 159
        },
        "id": "3UnG12-WxAp5",
        "outputId": "2b71a65e-e078-4093-f2e2-8e801f1934e1"
      },
      "outputs": [
        {
          "data": {
            "text/html": [
              "\n",
              "    <div>\n",
              "      \n",
              "      <progress value='13' max='13' style='width:300px; height:20px; vertical-align: middle;'></progress>\n",
              "      [13/13 00:05]\n",
              "    </div>\n",
              "    "
            ],
            "text/plain": [
              "<IPython.core.display.HTML object>"
            ]
          },
          "metadata": {},
          "output_type": "display_data"
        },
        {
          "data": {
            "text/plain": [
              "{'eval_loss': 0.43156173825263977,\n",
              " 'eval_accuracy': 0.8975,\n",
              " 'eval_f1': 0.8974480830920654,\n",
              " 'eval_runtime': 5.9328,\n",
              " 'eval_samples_per_second': 67.422,\n",
              " 'eval_steps_per_second': 2.191,\n",
              " 'epoch': 10.0}"
            ]
          },
          "execution_count": 35,
          "metadata": {},
          "output_type": "execute_result"
        }
      ],
      "source": [
        "trainer.evaluate(encoded_data[\"test\"])"
      ]
    },
    {
      "cell_type": "code",
      "execution_count": 36,
      "metadata": {
        "colab": {
          "base_uri": "https://localhost:8080/",
          "height": 17
        },
        "id": "JCfM0-oVT8nl",
        "outputId": "12b53015-ad92-49a3-ba5f-8f7b24be97f1"
      },
      "outputs": [
        {
          "data": {
            "text/html": [],
            "text/plain": [
              "<IPython.core.display.HTML object>"
            ]
          },
          "metadata": {},
          "output_type": "display_data"
        }
      ],
      "source": [
        "test_preds = trainer.predict(encoded_data['test'])"
      ]
    },
    {
      "cell_type": "code",
      "execution_count": 38,
      "metadata": {
        "colab": {
          "base_uri": "https://localhost:8080/",
          "height": 605
        },
        "id": "0pfI14YnU3dm",
        "outputId": "a309eafa-0ea0-46cf-a45d-55fcf41f1de6"
      },
      "outputs": [
        {
          "name": "stdout",
          "output_type": "stream",
          "text": [
            "              precision    recall  f1-score   support\n",
            "\n",
            "         neg       0.92      0.88      0.90       200\n",
            "         pos       0.88      0.92      0.90       200\n",
            "\n",
            "    accuracy                           0.90       400\n",
            "   macro avg       0.90      0.90      0.90       400\n",
            "weighted avg       0.90      0.90      0.90       400\n",
            "\n"
          ]
        },
        {
          "data": {
            "image/png": "[encoded data removed]",
            "text/plain": [
              "<Figure size 640x480 with 2 Axes>"
            ]
          },
          "metadata": {},
          "output_type": "display_data"
        }
      ],
      "source": [
        "from sklearn.metrics import ConfusionMatrixDisplay\n",
        "from sklearn.metrics import classification_report\n",
        "import matplotlib.pyplot as plt\n",
        "import numpy as np\n",
        "\n",
        "\n",
        "print(classification_report(\n",
        "    y_true=test_preds.label_ids,\n",
        "    y_pred=np.argmax(test_preds.predictions, axis=1),\n",
        "    target_names=[\"neg\", \"pos\"]\n",
        "))\n",
        "\n",
        "ConfusionMatrixDisplay.from_predictions(y_true=test_preds.label_ids,\n",
        "                                        y_pred=np.argmax(test_preds.predictions, axis=1),\n",
        "                                        display_labels=[\"neg\", \"pos\"])\n",
        "\n",
        "plt.show()"
      ]
    },
    {
      "cell_type": "markdown",
      "metadata": {
        "id": "FFPq4RhOpeU6"
      },
      "source": [
        "## Comparision with a baseline model\n",
        "\n",
        "Numbers of a standard SVM + TF-IDF model on the same split."
      ]
    },
    {
      "cell_type": "code",
      "execution_count": 47,
      "metadata": {
        "id": "0IbDR8BEoJZk"
      },
      "outputs": [],
      "source": [
        "from sklearn.feature_extraction.text import TfidfVectorizer\n",
        "from sklearn.svm import SVC\n",
        "\n",
        "tfidf = TfidfVectorizer()\n",
        "\n",
        "X_train_csr = tfidf.fit_transform(train_df[\"text\"])\n",
        "X_test_csr = tfidf.transform(test_df[\"text\"])\n",
        "\n",
        "svm = SVC()\n",
        "\n",
        "svm.fit(X_train_csr, [0 if elem == \"neg\" else 1 for elem in train_df[\"label\"]])\n",
        "\n",
        "preds_svm = svm.predict(X_test_csr)"
      ]
    },
    {
      "cell_type": "code",
      "execution_count": 49,
      "metadata": {
        "colab": {
          "base_uri": "https://localhost:8080/",
          "height": 605
        },
        "id": "qQi-e0BRpQG1",
        "outputId": "969b5953-cf98-4f65-e51f-1025e519f1d7"
      },
      "outputs": [
        {
          "name": "stdout",
          "output_type": "stream",
          "text": [
            "              precision    recall  f1-score   support\n",
            "\n",
            "         neg       0.82      0.77      0.80       200\n",
            "         pos       0.78      0.83      0.81       200\n",
            "\n",
            "    accuracy                           0.80       400\n",
            "   macro avg       0.80      0.80      0.80       400\n",
            "weighted avg       0.80      0.80      0.80       400\n",
            "\n"
          ]
        },
        {
          "data": {
            "image/png": "[encoded data removed]",
            "text/plain": [
              "<Figure size 640x480 with 2 Axes>"
            ]
          },
          "metadata": {},
          "output_type": "display_data"
        }
      ],
      "source": [
        "print(classification_report(\n",
        "    y_true=test_preds.label_ids,\n",
        "    y_pred=preds_svm,\n",
        "    target_names=[\"neg\", \"pos\"]\n",
        "))\n",
        "\n",
        "ConfusionMatrixDisplay.from_predictions(y_true=test_preds.label_ids,\n",
        "                                        y_pred=preds_svm,\n",
        "                                        display_labels=[\"neg\", \"pos\"])\n",
        "\n",
        "plt.show()"
      ]
    },
    {
      "cell_type": "markdown",
      "metadata": {
        "id": "Kat5tTSNsGvE"
      },
      "source": [
        "BERT is computationally more expensive, but its score is much better than our base model. It was fun, I hope you, dear reader, had a lot of fun too. See ya :)"
      ]
    },
    {
      "cell_type": "code",
      "execution_count": null,
      "metadata": {
        "id": "qYzxnuh9r9Gf"
      },
      "outputs": [],
      "source": []
    }
  ],
  "metadata": {
    "accelerator": "GPU",
    "colab": {
      "gpuType": "T4",
      "provenance": []
    },
    "kernelspec": {
      "display_name": "Python 3",
      "name": "python3"
    },
    "language_info": {
      "codemirror_mode": {
        "name": "ipython",
        "version": 3
      },
      "file_extension": ".py",
      "mimetype": "text/x-python",
      "name": "python",
      "nbconvert_exporter": "python",
      "pygments_lexer": "ipython3",
      "version": "3.10.12"
    },
    "widgets": {
      "application/vnd.jupyter.widget-state+json": {
        "036a683faa9f4bc78252edab5b05fe74": {
          "model_module": "@jupyter-widgets/controls",
          "model_module_version": "1.5.0",
          "model_name": "DescriptionStyleModel",
          "state": {
            "_model_module": "@jupyter-widgets/controls",
            "_model_module_version": "1.5.0",
            "_model_name": "DescriptionStyleModel",
            "_view_count": null,
            "_view_module": "@jupyter-widgets/base",
            "_view_module_version": "1.2.0",
            "_view_name": "StyleView",
            "description_width": ""
          }
        },
        "047114cfe2e44e239a9a05b541639329": {
          "model_module": "@jupyter-widgets/controls",
          "model_module_version": "1.5.0",
          "model_name": "HTMLModel",
          "state": {
            "_dom_classes": [],
            "_model_module": "@jupyter-widgets/controls",
            "_model_module_version": "1.5.0",
            "_model_name": "HTMLModel",
            "_view_count": null,
            "_view_module": "@jupyter-widgets/controls",
            "_view_module_version": "1.5.0",
            "_view_name": "HTMLView",
            "description": "",
            "description_tooltip": null,
            "layout": "IPY_MODEL_fa47149bbec049e383e1d53b1edde9e2",
            "placeholder": "​",
            "style": "IPY_MODEL_b5bae4ab388847a18e518f42d8d5dedb",
            "value": "<center> <img\nsrc=https://huggingface.co/front/assets/huggingface_logo-noborder.svg\nalt='Hugging Face'> <br> Copy a token from <a\nhref=\"https://huggingface.co/settings/tokens\" target=\"_blank\">your Hugging Face\ntokens page</a> and paste it below. <br> Immediately click login after copying\nyour token or it might be stored in plain text in this notebook file. </center>"
          }
        },
        "102a22d5c13046f6915d643b54d04038": {
          "model_module": "@jupyter-widgets/controls",
          "model_module_version": "1.5.0",
          "model_name": "CheckboxModel",
          "state": {
            "_dom_classes": [],
            "_model_module": "@jupyter-widgets/controls",
            "_model_module_version": "1.5.0",
            "_model_name": "CheckboxModel",
            "_view_count": null,
            "_view_module": "@jupyter-widgets/controls",
            "_view_module_version": "1.5.0",
            "_view_name": "CheckboxView",
            "description": "Add token as git credential?",
            "description_tooltip": null,
            "disabled": false,
            "indent": true,
            "layout": "IPY_MODEL_6dbe00fae921425aa7d2ad89da3778eb",
            "style": "IPY_MODEL_fb229c8625b946ddb3de022bde6b3477",
            "value": true
          }
        },
        "2827f931df624596ae4fc499c3a6b02c": {
          "model_module": "@jupyter-widgets/base",
          "model_module_version": "1.2.0",
          "model_name": "LayoutModel",
          "state": {
            "_model_module": "@jupyter-widgets/base",
            "_model_module_version": "1.2.0",
            "_model_name": "LayoutModel",
            "_view_count": null,
            "_view_module": "@jupyter-widgets/base",
            "_view_module_version": "1.2.0",
            "_view_name": "LayoutView",
            "align_content": null,
            "align_items": null,
            "align_self": null,
            "border": null,
            "bottom": null,
            "display": null,
            "flex": null,
            "flex_flow": null,
            "grid_area": null,
            "grid_auto_columns": null,
            "grid_auto_flow": null,
            "grid_auto_rows": null,
            "grid_column": null,
            "grid_gap": null,
            "grid_row": null,
            "grid_template_areas": null,
            "grid_template_columns": null,
            "grid_template_rows": null,
            "height": null,
            "justify_content": null,
            "justify_items": null,
            "left": null,
            "margin": null,
            "max_height": null,
            "max_width": null,
            "min_height": null,
            "min_width": null,
            "object_fit": null,
            "object_position": null,
            "order": null,
            "overflow": null,
            "overflow_x": null,
            "overflow_y": null,
            "padding": null,
            "right": null,
            "top": null,
            "visibility": null,
            "width": null
          }
        },
        "316004833f7d41089cc4c74301190d32": {
          "model_module": "@jupyter-widgets/controls",
          "model_module_version": "1.5.0",
          "model_name": "HBoxModel",
          "state": {
            "_dom_classes": [],
            "_model_module": "@jupyter-widgets/controls",
            "_model_module_version": "1.5.0",
            "_model_name": "HBoxModel",
            "_view_count": null,
            "_view_module": "@jupyter-widgets/controls",
            "_view_module_version": "1.5.0",
            "_view_name": "HBoxView",
            "box_style": "",
            "children": [
              "IPY_MODEL_efcb8c21d68248e8bd596f79f2766d59",
              "IPY_MODEL_47c8f30393b14da5b783ea6afb7b9847",
              "IPY_MODEL_c08398bad89a43c78b0e843702925710"
            ],
            "layout": "IPY_MODEL_9f19bc2b38df4644a9e47cfa9ac97d39"
          }
        },
        "38d75eb3d69343f087c53981c4d29787": {
          "model_module": "@jupyter-widgets/controls",
          "model_module_version": "1.5.0",
          "model_name": "ButtonStyleModel",
          "state": {
            "_model_module": "@jupyter-widgets/controls",
            "_model_module_version": "1.5.0",
            "_model_name": "ButtonStyleModel",
            "_view_count": null,
            "_view_module": "@jupyter-widgets/base",
            "_view_module_version": "1.2.0",
            "_view_name": "StyleView",
            "button_color": null,
            "font_weight": ""
          }
        },
        "3cdeca533e134b84a48bb8f3038804e3": {
          "model_module": "@jupyter-widgets/controls",
          "model_module_version": "1.5.0",
          "model_name": "LabelModel",
          "state": {
            "_dom_classes": [],
            "_model_module": "@jupyter-widgets/controls",
            "_model_module_version": "1.5.0",
            "_model_name": "LabelModel",
            "_view_count": null,
            "_view_module": "@jupyter-widgets/controls",
            "_view_module_version": "1.5.0",
            "_view_name": "LabelView",
            "description": "",
            "description_tooltip": null,
            "layout": "IPY_MODEL_ba7c5a6d937346edb808065febfb9d91",
            "placeholder": "​",
            "style": "IPY_MODEL_bccf503a7036405896018f299b68279a",
            "value": "Connecting..."
          }
        },
        "47c8f30393b14da5b783ea6afb7b9847": {
          "model_module": "@jupyter-widgets/controls",
          "model_module_version": "1.5.0",
          "model_name": "FloatProgressModel",
          "state": {
            "_dom_classes": [],
            "_model_module": "@jupyter-widgets/controls",
            "_model_module_version": "1.5.0",
            "_model_name": "FloatProgressModel",
            "_view_count": null,
            "_view_module": "@jupyter-widgets/controls",
            "_view_module_version": "1.5.0",
            "_view_name": "ProgressView",
            "bar_style": "success",
            "description": "",
            "description_tooltip": null,
            "layout": "IPY_MODEL_983657d368d84877b0599a228e0aeb48",
            "max": 1,
            "min": 0,
            "orientation": "horizontal",
            "style": "IPY_MODEL_8d528f1218fe4686bf258c051dcf577c",
            "value": 1
          }
        },
        "4a81e32d06534fc1be09b70855e3431d": {
          "model_module": "@jupyter-widgets/controls",
          "model_module_version": "1.5.0",
          "model_name": "ButtonModel",
          "state": {
            "_dom_classes": [],
            "_model_module": "@jupyter-widgets/controls",
            "_model_module_version": "1.5.0",
            "_model_name": "ButtonModel",
            "_view_count": null,
            "_view_module": "@jupyter-widgets/controls",
            "_view_module_version": "1.5.0",
            "_view_name": "ButtonView",
            "button_style": "",
            "description": "Login",
            "disabled": false,
            "icon": "",
            "layout": "IPY_MODEL_b4ec8f069f2b479e889e6b482c8febc6",
            "style": "IPY_MODEL_38d75eb3d69343f087c53981c4d29787",
            "tooltip": ""
          }
        },
        "4d37487d7c8a4b3caf7280c648739428": {
          "model_module": "@jupyter-widgets/controls",
          "model_module_version": "1.5.0",
          "model_name": "DescriptionStyleModel",
          "state": {
            "_model_module": "@jupyter-widgets/controls",
            "_model_module_version": "1.5.0",
            "_model_name": "DescriptionStyleModel",
            "_view_count": null,
            "_view_module": "@jupyter-widgets/base",
            "_view_module_version": "1.2.0",
            "_view_name": "StyleView",
            "description_width": ""
          }
        },
        "6dbe00fae921425aa7d2ad89da3778eb": {
          "model_module": "@jupyter-widgets/base",
          "model_module_version": "1.2.0",
          "model_name": "LayoutModel",
          "state": {
            "_model_module": "@jupyter-widgets/base",
            "_model_module_version": "1.2.0",
            "_model_name": "LayoutModel",
            "_view_count": null,
            "_view_module": "@jupyter-widgets/base",
            "_view_module_version": "1.2.0",
            "_view_name": "LayoutView",
            "align_content": null,
            "align_items": null,
            "align_self": null,
            "border": null,
            "bottom": null,
            "display": null,
            "flex": null,
            "flex_flow": null,
            "grid_area": null,
            "grid_auto_columns": null,
            "grid_auto_flow": null,
            "grid_auto_rows": null,
            "grid_column": null,
            "grid_gap": null,
            "grid_row": null,
            "grid_template_areas": null,
            "grid_template_columns": null,
            "grid_template_rows": null,
            "height": null,
            "justify_content": null,
            "justify_items": null,
            "left": null,
            "margin": null,
            "max_height": null,
            "max_width": null,
            "min_height": null,
            "min_width": null,
            "object_fit": null,
            "object_position": null,
            "order": null,
            "overflow": null,
            "overflow_x": null,
            "overflow_y": null,
            "padding": null,
            "right": null,
            "top": null,
            "visibility": null,
            "width": null
          }
        },
        "70cf26d99ec04eae84d530e5d1abb20b": {
          "model_module": "@jupyter-widgets/controls",
          "model_module_version": "1.5.0",
          "model_name": "VBoxModel",
          "state": {
            "_dom_classes": [],
            "_model_module": "@jupyter-widgets/controls",
            "_model_module_version": "1.5.0",
            "_model_name": "VBoxModel",
            "_view_count": null,
            "_view_module": "@jupyter-widgets/controls",
            "_view_module_version": "1.5.0",
            "_view_name": "VBoxView",
            "box_style": "",
            "children": [],
            "layout": "IPY_MODEL_d3e259c414264c99a4e05d556c5dd58d"
          }
        },
        "8809688a31fe4b1d9f793e76125e4b3f": {
          "model_module": "@jupyter-widgets/base",
          "model_module_version": "1.2.0",
          "model_name": "LayoutModel",
          "state": {
            "_model_module": "@jupyter-widgets/base",
            "_model_module_version": "1.2.0",
            "_model_name": "LayoutModel",
            "_view_count": null,
            "_view_module": "@jupyter-widgets/base",
            "_view_module_version": "1.2.0",
            "_view_name": "LayoutView",
            "align_content": null,
            "align_items": null,
            "align_self": null,
            "border": null,
            "bottom": null,
            "display": null,
            "flex": null,
            "flex_flow": null,
            "grid_area": null,
            "grid_auto_columns": null,
            "grid_auto_flow": null,
            "grid_auto_rows": null,
            "grid_column": null,
            "grid_gap": null,
            "grid_row": null,
            "grid_template_areas": null,
            "grid_template_columns": null,
            "grid_template_rows": null,
            "height": null,
            "justify_content": null,
            "justify_items": null,
            "left": null,
            "margin": null,
            "max_height": null,
            "max_width": null,
            "min_height": null,
            "min_width": null,
            "object_fit": null,
            "object_position": null,
            "order": null,
            "overflow": null,
            "overflow_x": null,
            "overflow_y": null,
            "padding": null,
            "right": null,
            "top": null,
            "visibility": null,
            "width": null
          }
        },
        "88bb2adc30824571a8b31286bfd49c59": {
          "model_module": "@jupyter-widgets/base",
          "model_module_version": "1.2.0",
          "model_name": "LayoutModel",
          "state": {
            "_model_module": "@jupyter-widgets/base",
            "_model_module_version": "1.2.0",
            "_model_name": "LayoutModel",
            "_view_count": null,
            "_view_module": "@jupyter-widgets/base",
            "_view_module_version": "1.2.0",
            "_view_name": "LayoutView",
            "align_content": null,
            "align_items": null,
            "align_self": null,
            "border": null,
            "bottom": null,
            "display": null,
            "flex": null,
            "flex_flow": null,
            "grid_area": null,
            "grid_auto_columns": null,
            "grid_auto_flow": null,
            "grid_auto_rows": null,
            "grid_column": null,
            "grid_gap": null,
            "grid_row": null,
            "grid_template_areas": null,
            "grid_template_columns": null,
            "grid_template_rows": null,
            "height": null,
            "justify_content": null,
            "justify_items": null,
            "left": null,
            "margin": null,
            "max_height": null,
            "max_width": null,
            "min_height": null,
            "min_width": null,
            "object_fit": null,
            "object_position": null,
            "order": null,
            "overflow": null,
            "overflow_x": null,
            "overflow_y": null,
            "padding": null,
            "right": null,
            "top": null,
            "visibility": null,
            "width": null
          }
        },
        "8d528f1218fe4686bf258c051dcf577c": {
          "model_module": "@jupyter-widgets/controls",
          "model_module_version": "1.5.0",
          "model_name": "ProgressStyleModel",
          "state": {
            "_model_module": "@jupyter-widgets/controls",
            "_model_module_version": "1.5.0",
            "_model_name": "ProgressStyleModel",
            "_view_count": null,
            "_view_module": "@jupyter-widgets/base",
            "_view_module_version": "1.2.0",
            "_view_name": "StyleView",
            "bar_color": null,
            "description_width": ""
          }
        },
        "983657d368d84877b0599a228e0aeb48": {
          "model_module": "@jupyter-widgets/base",
          "model_module_version": "1.2.0",
          "model_name": "LayoutModel",
          "state": {
            "_model_module": "@jupyter-widgets/base",
            "_model_module_version": "1.2.0",
            "_model_name": "LayoutModel",
            "_view_count": null,
            "_view_module": "@jupyter-widgets/base",
            "_view_module_version": "1.2.0",
            "_view_name": "LayoutView",
            "align_content": null,
            "align_items": null,
            "align_self": null,
            "border": null,
            "bottom": null,
            "display": null,
            "flex": null,
            "flex_flow": null,
            "grid_area": null,
            "grid_auto_columns": null,
            "grid_auto_flow": null,
            "grid_auto_rows": null,
            "grid_column": null,
            "grid_gap": null,
            "grid_row": null,
            "grid_template_areas": null,
            "grid_template_columns": null,
            "grid_template_rows": null,
            "height": null,
            "justify_content": null,
            "justify_items": null,
            "left": null,
            "margin": null,
            "max_height": null,
            "max_width": null,
            "min_height": null,
            "min_width": null,
            "object_fit": null,
            "object_position": null,
            "order": null,
            "overflow": null,
            "overflow_x": null,
            "overflow_y": null,
            "padding": null,
            "right": null,
            "top": null,
            "visibility": null,
            "width": "20px"
          }
        },
        "9f19bc2b38df4644a9e47cfa9ac97d39": {
          "model_module": "@jupyter-widgets/base",
          "model_module_version": "1.2.0",
          "model_name": "LayoutModel",
          "state": {
            "_model_module": "@jupyter-widgets/base",
            "_model_module_version": "1.2.0",
            "_model_name": "LayoutModel",
            "_view_count": null,
            "_view_module": "@jupyter-widgets/base",
            "_view_module_version": "1.2.0",
            "_view_name": "LayoutView",
            "align_content": null,
            "align_items": null,
            "align_self": null,
            "border": null,
            "bottom": null,
            "display": null,
            "flex": null,
            "flex_flow": null,
            "grid_area": null,
            "grid_auto_columns": null,
            "grid_auto_flow": null,
            "grid_auto_rows": null,
            "grid_column": null,
            "grid_gap": null,
            "grid_row": null,
            "grid_template_areas": null,
            "grid_template_columns": null,
            "grid_template_rows": null,
            "height": null,
            "justify_content": null,
            "justify_items": null,
            "left": null,
            "margin": null,
            "max_height": null,
            "max_width": null,
            "min_height": null,
            "min_width": null,
            "object_fit": null,
            "object_position": null,
            "order": null,
            "overflow": null,
            "overflow_x": null,
            "overflow_y": null,
            "padding": null,
            "right": null,
            "top": null,
            "visibility": null,
            "width": null
          }
        },
        "b10b3bf927544503b2e7977cf20826a1": {
          "model_module": "@jupyter-widgets/controls",
          "model_module_version": "1.5.0",
          "model_name": "HTMLModel",
          "state": {
            "_dom_classes": [],
            "_model_module": "@jupyter-widgets/controls",
            "_model_module_version": "1.5.0",
            "_model_name": "HTMLModel",
            "_view_count": null,
            "_view_module": "@jupyter-widgets/controls",
            "_view_module_version": "1.5.0",
            "_view_name": "HTMLView",
            "description": "",
            "description_tooltip": null,
            "layout": "IPY_MODEL_d1e49a37698647f18534456258696456",
            "placeholder": "​",
            "style": "IPY_MODEL_036a683faa9f4bc78252edab5b05fe74",
            "value": "\n<b>Pro Tip:</b> If you don't already have one, you can create a dedicated\n'notebooks' token with 'write' access, that you can then easily reuse for all\nnotebooks. </center>"
          }
        },
        "b4ec8f069f2b479e889e6b482c8febc6": {
          "model_module": "@jupyter-widgets/base",
          "model_module_version": "1.2.0",
          "model_name": "LayoutModel",
          "state": {
            "_model_module": "@jupyter-widgets/base",
            "_model_module_version": "1.2.0",
            "_model_name": "LayoutModel",
            "_view_count": null,
            "_view_module": "@jupyter-widgets/base",
            "_view_module_version": "1.2.0",
            "_view_name": "LayoutView",
            "align_content": null,
            "align_items": null,
            "align_self": null,
            "border": null,
            "bottom": null,
            "display": null,
            "flex": null,
            "flex_flow": null,
            "grid_area": null,
            "grid_auto_columns": null,
            "grid_auto_flow": null,
            "grid_auto_rows": null,
            "grid_column": null,
            "grid_gap": null,
            "grid_row": null,
            "grid_template_areas": null,
            "grid_template_columns": null,
            "grid_template_rows": null,
            "height": null,
            "justify_content": null,
            "justify_items": null,
            "left": null,
            "margin": null,
            "max_height": null,
            "max_width": null,
            "min_height": null,
            "min_width": null,
            "object_fit": null,
            "object_position": null,
            "order": null,
            "overflow": null,
            "overflow_x": null,
            "overflow_y": null,
            "padding": null,
            "right": null,
            "top": null,
            "visibility": null,
            "width": null
          }
        },
        "b5bae4ab388847a18e518f42d8d5dedb": {
          "model_module": "@jupyter-widgets/controls",
          "model_module_version": "1.5.0",
          "model_name": "DescriptionStyleModel",
          "state": {
            "_model_module": "@jupyter-widgets/controls",
            "_model_module_version": "1.5.0",
            "_model_name": "DescriptionStyleModel",
            "_view_count": null,
            "_view_module": "@jupyter-widgets/base",
            "_view_module_version": "1.2.0",
            "_view_name": "StyleView",
            "description_width": ""
          }
        },
        "ba7c5a6d937346edb808065febfb9d91": {
          "model_module": "@jupyter-widgets/base",
          "model_module_version": "1.2.0",
          "model_name": "LayoutModel",
          "state": {
            "_model_module": "@jupyter-widgets/base",
            "_model_module_version": "1.2.0",
            "_model_name": "LayoutModel",
            "_view_count": null,
            "_view_module": "@jupyter-widgets/base",
            "_view_module_version": "1.2.0",
            "_view_name": "LayoutView",
            "align_content": null,
            "align_items": null,
            "align_self": null,
            "border": null,
            "bottom": null,
            "display": null,
            "flex": null,
            "flex_flow": null,
            "grid_area": null,
            "grid_auto_columns": null,
            "grid_auto_flow": null,
            "grid_auto_rows": null,
            "grid_column": null,
            "grid_gap": null,
            "grid_row": null,
            "grid_template_areas": null,
            "grid_template_columns": null,
            "grid_template_rows": null,
            "height": null,
            "justify_content": null,
            "justify_items": null,
            "left": null,
            "margin": null,
            "max_height": null,
            "max_width": null,
            "min_height": null,
            "min_width": null,
            "object_fit": null,
            "object_position": null,
            "order": null,
            "overflow": null,
            "overflow_x": null,
            "overflow_y": null,
            "padding": null,
            "right": null,
            "top": null,
            "visibility": null,
            "width": null
          }
        },
        "bccf503a7036405896018f299b68279a": {
          "model_module": "@jupyter-widgets/controls",
          "model_module_version": "1.5.0",
          "model_name": "DescriptionStyleModel",
          "state": {
            "_model_module": "@jupyter-widgets/controls",
            "_model_module_version": "1.5.0",
            "_model_name": "DescriptionStyleModel",
            "_view_count": null,
            "_view_module": "@jupyter-widgets/base",
            "_view_module_version": "1.2.0",
            "_view_name": "StyleView",
            "description_width": ""
          }
        },
        "c08398bad89a43c78b0e843702925710": {
          "model_module": "@jupyter-widgets/controls",
          "model_module_version": "1.5.0",
          "model_name": "HTMLModel",
          "state": {
            "_dom_classes": [],
            "_model_module": "@jupyter-widgets/controls",
            "_model_module_version": "1.5.0",
            "_model_name": "HTMLModel",
            "_view_count": null,
            "_view_module": "@jupyter-widgets/controls",
            "_view_module_version": "1.5.0",
            "_view_name": "HTMLView",
            "description": "",
            "description_tooltip": null,
            "layout": "IPY_MODEL_8809688a31fe4b1d9f793e76125e4b3f",
            "placeholder": "​",
            "style": "IPY_MODEL_4d37487d7c8a4b3caf7280c648739428",
            "value": " 2000/0 [00:00&lt;00:00, 8335.46 examples/s]"
          }
        },
        "d1e49a37698647f18534456258696456": {
          "model_module": "@jupyter-widgets/base",
          "model_module_version": "1.2.0",
          "model_name": "LayoutModel",
          "state": {
            "_model_module": "@jupyter-widgets/base",
            "_model_module_version": "1.2.0",
            "_model_name": "LayoutModel",
            "_view_count": null,
            "_view_module": "@jupyter-widgets/base",
            "_view_module_version": "1.2.0",
            "_view_name": "LayoutView",
            "align_content": null,
            "align_items": null,
            "align_self": null,
            "border": null,
            "bottom": null,
            "display": null,
            "flex": null,
            "flex_flow": null,
            "grid_area": null,
            "grid_auto_columns": null,
            "grid_auto_flow": null,
            "grid_auto_rows": null,
            "grid_column": null,
            "grid_gap": null,
            "grid_row": null,
            "grid_template_areas": null,
            "grid_template_columns": null,
            "grid_template_rows": null,
            "height": null,
            "justify_content": null,
            "justify_items": null,
            "left": null,
            "margin": null,
            "max_height": null,
            "max_width": null,
            "min_height": null,
            "min_width": null,
            "object_fit": null,
            "object_position": null,
            "order": null,
            "overflow": null,
            "overflow_x": null,
            "overflow_y": null,
            "padding": null,
            "right": null,
            "top": null,
            "visibility": null,
            "width": null
          }
        },
        "d215b1a9acda45eb8656343a8ef2dfff": {
          "model_module": "@jupyter-widgets/controls",
          "model_module_version": "1.5.0",
          "model_name": "DescriptionStyleModel",
          "state": {
            "_model_module": "@jupyter-widgets/controls",
            "_model_module_version": "1.5.0",
            "_model_name": "DescriptionStyleModel",
            "_view_count": null,
            "_view_module": "@jupyter-widgets/base",
            "_view_module_version": "1.2.0",
            "_view_name": "StyleView",
            "description_width": ""
          }
        },
        "d3e259c414264c99a4e05d556c5dd58d": {
          "model_module": "@jupyter-widgets/base",
          "model_module_version": "1.2.0",
          "model_name": "LayoutModel",
          "state": {
            "_model_module": "@jupyter-widgets/base",
            "_model_module_version": "1.2.0",
            "_model_name": "LayoutModel",
            "_view_count": null,
            "_view_module": "@jupyter-widgets/base",
            "_view_module_version": "1.2.0",
            "_view_name": "LayoutView",
            "align_content": null,
            "align_items": "center",
            "align_self": null,
            "border": null,
            "bottom": null,
            "display": "flex",
            "flex": null,
            "flex_flow": "column",
            "grid_area": null,
            "grid_auto_columns": null,
            "grid_auto_flow": null,
            "grid_auto_rows": null,
            "grid_column": null,
            "grid_gap": null,
            "grid_row": null,
            "grid_template_areas": null,
            "grid_template_columns": null,
            "grid_template_rows": null,
            "height": null,
            "justify_content": null,
            "justify_items": null,
            "left": null,
            "margin": null,
            "max_height": null,
            "max_width": null,
            "min_height": null,
            "min_width": null,
            "object_fit": null,
            "object_position": null,
            "order": null,
            "overflow": null,
            "overflow_x": null,
            "overflow_y": null,
            "padding": null,
            "right": null,
            "top": null,
            "visibility": null,
            "width": "50%"
          }
        },
        "efcb8c21d68248e8bd596f79f2766d59": {
          "model_module": "@jupyter-widgets/controls",
          "model_module_version": "1.5.0",
          "model_name": "HTMLModel",
          "state": {
            "_dom_classes": [],
            "_model_module": "@jupyter-widgets/controls",
            "_model_module_version": "1.5.0",
            "_model_name": "HTMLModel",
            "_view_count": null,
            "_view_module": "@jupyter-widgets/controls",
            "_view_module_version": "1.5.0",
            "_view_name": "HTMLView",
            "description": "",
            "description_tooltip": null,
            "layout": "IPY_MODEL_2827f931df624596ae4fc499c3a6b02c",
            "placeholder": "​",
            "style": "IPY_MODEL_d215b1a9acda45eb8656343a8ef2dfff",
            "value": "Generating train split: "
          }
        },
        "f5953149b77a4770a903cd133b15611f": {
          "model_module": "@jupyter-widgets/controls",
          "model_module_version": "1.5.0",
          "model_name": "PasswordModel",
          "state": {
            "_dom_classes": [],
            "_model_module": "@jupyter-widgets/controls",
            "_model_module_version": "1.5.0",
            "_model_name": "PasswordModel",
            "_view_count": null,
            "_view_module": "@jupyter-widgets/controls",
            "_view_module_version": "1.5.0",
            "_view_name": "PasswordView",
            "continuous_update": true,
            "description": "Token:",
            "description_tooltip": null,
            "disabled": false,
            "layout": "IPY_MODEL_88bb2adc30824571a8b31286bfd49c59",
            "placeholder": "​",
            "style": "IPY_MODEL_f64a615cb8e5433c8e81ec2bb1b05f49",
            "value": ""
          }
        },
        "f64a615cb8e5433c8e81ec2bb1b05f49": {
          "model_module": "@jupyter-widgets/controls",
          "model_module_version": "1.5.0",
          "model_name": "DescriptionStyleModel",
          "state": {
            "_model_module": "@jupyter-widgets/controls",
            "_model_module_version": "1.5.0",
            "_model_name": "DescriptionStyleModel",
            "_view_count": null,
            "_view_module": "@jupyter-widgets/base",
            "_view_module_version": "1.2.0",
            "_view_name": "StyleView",
            "description_width": ""
          }
        },
        "fa47149bbec049e383e1d53b1edde9e2": {
          "model_module": "@jupyter-widgets/base",
          "model_module_version": "1.2.0",
          "model_name": "LayoutModel",
          "state": {
            "_model_module": "@jupyter-widgets/base",
            "_model_module_version": "1.2.0",
            "_model_name": "LayoutModel",
            "_view_count": null,
            "_view_module": "@jupyter-widgets/base",
            "_view_module_version": "1.2.0",
            "_view_name": "LayoutView",
            "align_content": null,
            "align_items": null,
            "align_self": null,
            "border": null,
            "bottom": null,
            "display": null,
            "flex": null,
            "flex_flow": null,
            "grid_area": null,
            "grid_auto_columns": null,
            "grid_auto_flow": null,
            "grid_auto_rows": null,
            "grid_column": null,
            "grid_gap": null,
            "grid_row": null,
            "grid_template_areas": null,
            "grid_template_columns": null,
            "grid_template_rows": null,
            "height": null,
            "justify_content": null,
            "justify_items": null,
            "left": null,
            "margin": null,
            "max_height": null,
            "max_width": null,
            "min_height": null,
            "min_width": null,
            "object_fit": null,
            "object_position": null,
            "order": null,
            "overflow": null,
            "overflow_x": null,
            "overflow_y": null,
            "padding": null,
            "right": null,
            "top": null,
            "visibility": null,
            "width": null
          }
        },
        "fb229c8625b946ddb3de022bde6b3477": {
          "model_module": "@jupyter-widgets/controls",
          "model_module_version": "1.5.0",
          "model_name": "DescriptionStyleModel",
          "state": {
            "_model_module": "@jupyter-widgets/controls",
            "_model_module_version": "1.5.0",
            "_model_name": "DescriptionStyleModel",
            "_view_count": null,
            "_view_module": "@jupyter-widgets/base",
            "_view_module_version": "1.2.0",
            "_view_name": "StyleView",
            "description_width": ""
          }
        }
      }
    }
  },
  "nbformat": 4,
  "nbformat_minor": 0
}
