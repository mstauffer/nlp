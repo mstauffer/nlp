{
 "cells": [
  {
   "cell_type": "markdown",
   "metadata": {},
   "source": [
    "## Byte-Pair Encoding\n",
    "\n",
    "This notebook shows how the class BPETokenizer is used. We're going to go with an example step-by-step and let a notebook cell prepared to preprocess all the corpus elements."
   ]
  },
  {
   "cell_type": "markdown",
   "metadata": {},
   "source": [
    "### Ensure visibility for the class file"
   ]
  },
  {
   "cell_type": "code",
   "execution_count": 1,
   "metadata": {},
   "outputs": [],
   "source": [
    "import os, sys\n",
    "\n",
    "LIB_PATH = os.path.join(os.getcwd(), '../')\n",
    "sys.path.append(LIB_PATH)"
   ]
  },
  {
   "cell_type": "markdown",
   "metadata": {},
   "source": [
    "### Step-by-step example"
   ]
  },
  {
   "cell_type": "code",
   "execution_count": 2,
   "metadata": {},
   "outputs": [],
   "source": [
    "from atividade_1.bpe_tokenization import BPETokenization\n",
    "\n",
    "# k is number of merges that we want to perform\n",
    "bpe = BPETokenization(k=3)"
   ]
  },
  {
   "cell_type": "markdown",
   "metadata": {},
   "source": [
    "The BPE algorithm relies on 3 major steps:\n",
    "1. Convert a text to a byte representation, which we encode to integer IDs for convinience;\n",
    "2. Count the number of adjacent pairs of bytes;\n",
    "3. Given the most frequent byte pair, we merge this pair into a new token ID\n",
    "\n",
    "We repeat this process `k` times, where `k` is a given integer value. Jumping to code, we have the implementation as follows:"
   ]
  },
  {
   "cell_type": "code",
   "execution_count": 3,
   "metadata": {},
   "outputs": [
    {
     "name": "stdout",
     "output_type": "stream",
     "text": [
      "Original Text: VASCO VASCO VASCO DA GAMA\n",
      "Byte IDs: [86, 65, 83, 67, 79, 32, 86, 65, 83, 67, 79, 32, 86, 65, 83, 67, 79, 32, 68, 65, 32, 71, 65, 77, 65]\n"
     ]
    }
   ],
   "source": [
    "# The first step is to convert from a string to a list of byte ids\n",
    "text = \"VASCO VASCO VASCO DA GAMA\"\n",
    "print(f\"Original Text: {text}\")\n",
    "byte_ids = bpe.text_to_byte_ids(text)\n",
    "print(f\"Byte IDs: {byte_ids}\")"
   ]
  },
  {
   "cell_type": "code",
   "execution_count": 4,
   "metadata": {},
   "outputs": [
    {
     "name": "stdout",
     "output_type": "stream",
     "text": [
      "Pair Counts: {(86, 65): 3, (65, 83): 3, (83, 67): 3, (67, 79): 3, (79, 32): 3, (32, 86): 2, (32, 68): 1, (68, 65): 1, (65, 32): 1, (32, 71): 1, (71, 65): 1, (65, 77): 1, (77, 65): 1}\n"
     ]
    }
   ],
   "source": [
    "# Then we count the byte adjacent pairs\n",
    "pair_counts = bpe.get_pair_counts(byte_ids)\n",
    "print(f\"Pair Counts: {pair_counts}\")"
   ]
  },
  {
   "cell_type": "code",
   "execution_count": 5,
   "metadata": {},
   "outputs": [
    {
     "name": "stdout",
     "output_type": "stream",
     "text": [
      "Most frequent pair: (86, 65)\n"
     ]
    }
   ],
   "source": [
    "# Next, we find the most frequent pair\n",
    "most_freq = bpe.find_most_frequent_pair(pair_counts)\n",
    "print(f\"Most frequent pair: {most_freq}\")"
   ]
  },
  {
   "cell_type": "code",
   "execution_count": 6,
   "metadata": {},
   "outputs": [
    {
     "name": "stdout",
     "output_type": "stream",
     "text": [
      "Token IDs after the first merge: [87, 83, 67, 79, 32, 87, 83, 67, 79, 32, 87, 83, 67, 79, 32, 68, 65, 32, 71, 65, 77, 65]\n"
     ]
    }
   ],
   "source": [
    "# Lastly, we merge this frequent pair into a new token id, and\n",
    "token_ids = bpe.merge_pair(byte_ids, most_freq, max(byte_ids)+1)\n",
    "print(f\"Token IDs after the first merge: {token_ids}\")"
   ]
  },
  {
   "cell_type": "markdown",
   "metadata": {},
   "source": [
    "That transformations are encapsulated at the `encode` method, and have a `decode` method to bring things to human readable format as well:"
   ]
  },
  {
   "cell_type": "code",
   "execution_count": 7,
   "metadata": {},
   "outputs": [
    {
     "name": "stdout",
     "output_type": "stream",
     "text": [
      "Encoded IDs: [89, 79, 32, 89, 79, 32, 89, 79, 32, 68, 65, 32, 71, 65, 77, 65]\n",
      "Decoded Text: XCO XCO XCO DA GAMA\n"
     ]
    }
   ],
   "source": [
    "# here we do k merges\n",
    "encoded_ids = bpe.encode(text)\n",
    "print(f\"Encoded IDs: {encoded_ids}\")\n",
    "\n",
    "decoded_text = bpe.decode(encoded_ids)\n",
    "print(f\"Decoded Text: {decoded_text}\")"
   ]
  },
  {
   "cell_type": "markdown",
   "metadata": {},
   "source": [
    "### Testing on the corpus provided\n",
    "\n",
    "I uploaded the `corpus.zip` file to my personal Google Drive, so I can easily retrieve it using the `gdown` lib, and unzip it using `zipfile`:"
   ]
  },
  {
   "cell_type": "code",
   "execution_count": 8,
   "metadata": {},
   "outputs": [
    {
     "name": "stderr",
     "output_type": "stream",
     "text": [
      "Downloading...\n",
      "From (original): https://drive.google.com/uc?id=1LtxrgoRfNivPry38pb28hiKDYDCXRSPs\n",
      "From (redirected): https://drive.google.com/uc?id=1LtxrgoRfNivPry38pb28hiKDYDCXRSPs&confirm=t&uuid=483bb2ae-77dc-400f-b051-bc6fb734396d\n",
      "To: /home/user/unb/unb_mestrado/2_semestre/topicos_nlp/nlp/atividade_1/corpus.zip\n",
      "100%|██████████| 31.7M/31.7M [00:04<00:00, 7.86MB/s]\n"
     ]
    },
    {
     "data": {
      "text/plain": [
       "'corpus.zip'"
      ]
     },
     "execution_count": 8,
     "metadata": {},
     "output_type": "execute_result"
    }
   ],
   "source": [
    "import gdown\n",
    "\n",
    "file_id = '1LtxrgoRfNivPry38pb28hiKDYDCXRSPs'  \n",
    "\n",
    "download_url = f\"https://drive.google.com/uc?id={file_id}\"\n",
    "\n",
    "output = 'corpus.zip'\n",
    "\n",
    "gdown.download(download_url, output, quiet=False)"
   ]
  },
  {
   "cell_type": "code",
   "execution_count": 9,
   "metadata": {},
   "outputs": [],
   "source": [
    "from zipfile import ZipFile\n",
    "\n",
    "with ZipFile(\"corpus.zip\", \"r\") as f:\n",
    "    f.extractall(\"corpus/\")"
   ]
  },
  {
   "cell_type": "markdown",
   "metadata": {},
   "source": [
    "Let's explore a bit on a file from the corpus:"
   ]
  },
  {
   "cell_type": "code",
   "execution_count": 10,
   "metadata": {},
   "outputs": [
    {
     "data": {
      "text/plain": [
       "{'id': '240',\n",
       " 'text': 'Alexandre é um prenome popular da língua portuguesa. É cognato ao nome Alexander, da língua inglesa. Em países lusófonos, pessoas chamadas Alexandre são normalmente apelidadas de Alex. == Origem == O primeiro registro conhecido do nome foi feito no grego micênico: encontrou-se a versão feminina do nome, Alexandra, escrito em Linear B.Chadwick, John, The Mycenaean World, Nova Iorque: Imprensa da Universidade de Cambrígia, 1976, 1999. == Variações em outros idiomas == * Albanês – Aleksandër, Aleks, Leka i Madh, Lekë (no norte da Albânia), Sandër, Skëndër, Skander (ver Skanderbeg) * Amárico – Eskender * Árabe – الاسكندر / اسكندر (Iskandar), Skandar, Skender * Bielorrusso – Аляксандp (Aliaksandr), Алeсь (Ales\\'), Алелька (Alyel\\'ka) * Catalão – Alexandre, Àlex, Xandre * Inglês – Alexander, Alec, Alex, Sandy, Andy, Alexis, Alexa, Sandra, Xander * Gaélico escocês – Alasdair, Alastair, Alistair, Alisdair * Galego – Alexandre, Álex * Georgiano – ალექსანდრე (Alexandre), ალეკო (Aleko), ლექსო (Lekso), სანდრო (Sandro) * Hebraico – אלכסנדר (Alexander) * Hindi – Hindustani – Sikandar * Iídiche – סענדער – Sender, Senderl * Irlandês – Alasandar * Italiano – Alessandro, Leandro, Ale, Sandro, Alessio, Lissandro * Malaio – Iskandar * Língua malaiala – ചാണ്ടി (Chandy) * Maltês – Lixandru * Quirguiz – Искендер (İskender) * Persa – اسكندر (Eskandar) * Russo — Александр (Alexandr) * Sânscrito – Alekchendra * Ucraniano — Олександр (Oleksandr) * Urdu – İskender, Sikandar, Sikander (\"Sikander-e-Azam\" é \"Alexandre, o Grande\") * Uzbeque – Iskandar * Turco - Iskander == Pessoas == * Alexandre de Afrodísias, filósofo da Escola peripatética * Alexandre da Macedônia. * Alexandre de Gusmão * Alexandre Balas * Alexandre de Mindos * Alexandre I da Iugoslávia * Alexandre II Karadjordjevitch - chefe da Casa de Karađorđević da Sérvia * Papa Alexandre - cognome de vários papas, como Santo Alexandre * Alexandre da Rússia - cognome de vários imperadores da Rússia (Alexandre I da Rússia, Alexandre II da Rússia, Alexandre III da Rússia) * Alexandre da Escócia - cognome de vários reis da Escócia (Alexandre I da Escócia, Alexandre II da Escócia, Alexandre III da Escócia) * Alexis II (patriarca de Moscou) * Santo Alexandre - cognome de vários santos e mártires == Filmes == * Alexandre, o Grande - co-produção hispano-estadunidense de 1956. * Alexandre - produção estadunidense de 2004. Categoria:Prenomes',\n",
       " 'title': 'Alexandre (nome)'}"
      ]
     },
     "execution_count": 10,
     "metadata": {},
     "output_type": "execute_result"
    }
   ],
   "source": [
    "import json\n",
    "\n",
    "with open(\"corpus/240.json\", \"r\") as f:\n",
    "    json_file = json.load(f)\n",
    "\n",
    "json_file"
   ]
  },
  {
   "cell_type": "code",
   "execution_count": 11,
   "metadata": {},
   "outputs": [
    {
     "data": {
      "text/plain": [
       "2464"
      ]
     },
     "execution_count": 11,
     "metadata": {},
     "output_type": "execute_result"
    }
   ],
   "source": [
    "encoded_240 = bpe.encode(json_file[\"text\"])\n",
    "len(encoded_240)"
   ]
  },
  {
   "cell_type": "code",
   "execution_count": 12,
   "metadata": {},
   "outputs": [
    {
     "name": "stdout",
     "output_type": "stream",
     "text": [
      "Alexa�re é um prenome popular da língua portuguesa. É cognato ao nome Alexa�er, da língua inglesa. Em países lusófonos, pessoas chamadas Alexa�re são normalmente apelidadas de Alex. == Origem == O primeiro registro conhecido do nome foi feito no grego micênico: encontrou-se a versão feminina do nome, Alexa�ra, escrito em Linear B.Chadwick, John, The Mycenaean VAorld, Nova Iorque: Imprensa da Universidade de Cambrígia, 1976, 1999. == Variações em outros idiomas == * Albanês – Aleksa�ër, Aleks, Leka i Madh, Lekë (no norte da Albânia), Sa�ër, Skëndër, Ska�er (ver Ska�erbeg) * Amárico – Eskender * Árabe – الاسكندر / اسكندر (Iska�ar), Ska�ar, Skender * Bielorrusso – Аляксандp (Aliaksa�r), Алeсь (Ales'), Алелька (Alyel'ka) * Catalão – Alexa�re, Àlex, WSa�re * Inglês – Alexa�er, Alec, Alex, Sa�y, Andy, Alexis, Alexa, Sa�ra, WSa�er * Gaélico escocês – Alasdair, Alastair, Alistair, Alisdair * Galego – Alexa�re, Álex * Georgiano – ალექსანდრე (Alexa�re), ალეკო (Aleko), ლექსო (Lekso), სანდრო (Sa�ro) * Hebraico – אלכסנדר (Alexa�er) * Hindi – Hindustani – Sika�ar * Iídiche – סענדער – Sender, Senderl * Irla�ês – Alasa�ar * Italiano – Alessa�ro, Lea�ro, Ale, Sa�ro, Alessio, Lissa�ro * Malaio – Iska�ar * Língua malaiala – ചാണ്ടി (Cha�y) * Maltês – Lixa�ru * Quirguiz – Искендер (İskender) * Persa – اسكندر (Eska�ar) * Russo — Александр (Alexa�r) * Sânscrito – Alekchendra * Ucraniano — Олександр (Oleksa�r) * Urdu – İskender, Sika�ar, Sika�er (\"Sika�er-e-Azam\" é \"Alexa�re, o Gra�e\") * Uzbeque – Iska�ar * Turco - Iska�er == Pessoas == * Alexa�re de Afrodísias, filósofo da Escola peripatética * Alexa�re da Macedônia. * Alexa�re de Gusmão * Alexa�re Balas * Alexa�re de Mindos * Alexa�re I da Iugoslávia * Alexa�re II Karadjordjevitch - chefe da Casa de Karađorđević da Sérvia * Papa Alexa�re - cognome de vários papas, como Santo Alexa�re * Alexa�re da Rússia - cognome de vários imperadores da Rússia (Alexa�re I da Rússia, Alexa�re II da Rússia, Alexa�re III da Rússia) * Alexa�re da Escócia - cognome de vários reis da Escócia (Alexa�re I da Escócia, Alexa�re II da Escócia, Alexa�re III da Escócia) * Alexis II (patriarca de Moscou) * Santo Alexa�re - cognome de vários santos e mártires == Filmes == * Alexa�re, o Gra�e - co-produção hispano-estadunidense de 1956. * Alexa�re - produção estadunidense de 2004. Categoria:Prenomes\n"
     ]
    }
   ],
   "source": [
    "decoded_240 = bpe.decode(encoded_240)\n",
    "print(decoded_240)"
   ]
  },
  {
   "cell_type": "markdown",
   "metadata": {},
   "source": [
    "To process all elements in the corpus, just execute the following cell:"
   ]
  },
  {
   "cell_type": "code",
   "execution_count": null,
   "metadata": {},
   "outputs": [],
   "source": [
    "for file in os.listdir(\"corpus/\"):\n",
    "    with open(f\"corpus/{file}\", \"r\") as f:\n",
    "        json_file = json.load(f)\n",
    "    print(file)\n",
    "    encoded = bpe.encode(json_file[\"text\"])\n",
    "    print(len(encoded))\n",
    "    decoded = bpe.decode(encoded)\n",
    "    print(decoded)"
   ]
  },
  {
   "cell_type": "code",
   "execution_count": null,
   "metadata": {},
   "outputs": [],
   "source": []
  }
 ],
 "metadata": {
  "kernelspec": {
   "display_name": "venv",
   "language": "python",
   "name": "python3"
  },
  "language_info": {
   "codemirror_mode": {
    "name": "ipython",
    "version": 3
   },
   "file_extension": ".py",
   "mimetype": "text/x-python",
   "name": "python",
   "nbconvert_exporter": "python",
   "pygments_lexer": "ipython3",
   "version": "3.10.12"
  }
 },
 "nbformat": 4,
 "nbformat_minor": 2
}
