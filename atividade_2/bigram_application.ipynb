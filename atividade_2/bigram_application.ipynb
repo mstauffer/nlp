{
 "cells": [
  {
   "cell_type": "markdown",
   "metadata": {},
   "source": [
    "## Bigram Model\n",
    "\n",
    "The idea was to use the improved BPE algorithm from the last activity and to create a bigram model. Regarding to changes on the BPE, I:\n",
    "1. Changed the main tokenizer parameter from number of merges made to the vocab_size;\n",
    "2. Trained on the corpus given: last time I didn't trained, only placed the code cell and didn't executed."
   ]
  },
  {
   "cell_type": "code",
   "execution_count": 1,
   "metadata": {},
   "outputs": [],
   "source": [
    "import os, sys\n",
    "\n",
    "LIB_PATH = os.path.join(os.getcwd(), '../')\n",
    "sys.path.append(LIB_PATH)"
   ]
  },
  {
   "cell_type": "code",
   "execution_count": 2,
   "metadata": {},
   "outputs": [],
   "source": [
    "from atividade_1.bpe_tokenization import BPETokenization\n",
    "from atividade_2.bigram import BigramLanguageModel\n",
    "import torch\n",
    "import json"
   ]
  },
  {
   "cell_type": "code",
   "execution_count": 3,
   "metadata": {},
   "outputs": [],
   "source": [
    "# Used my local path for the corpus folder\n",
    "corpus_folder = \"/home/user/unb/unb_mestrado/2_semestre/topicos_nlp/nlp/atividade_1/corpus\"\n",
    "full_dataset = os.listdir(corpus_folder)\n",
    "\n",
    "# torch generator for the sake of reprodutibility\n",
    "generator1 = torch.Generator().manual_seed(42)\n",
    "train_dataset, test_dataset = torch.utils.data.random_split(full_dataset,\n",
    "                                                            [0.8, 0.2],\n",
    "                                                            generator=generator1)"
   ]
  },
  {
   "cell_type": "markdown",
   "metadata": {},
   "source": [
    "Helper function for loading the corpus"
   ]
  },
  {
   "cell_type": "code",
   "execution_count": 4,
   "metadata": {},
   "outputs": [],
   "source": [
    "def corpus_generator(corpus_path: str, dataset):\n",
    "    for file in dataset:\n",
    "        with open(f\"{corpus_path}/{file}\", \"r\") as f:\n",
    "            json_file = json.load(f)\n",
    "            yield json_file[\"text\"]"
   ]
  },
  {
   "cell_type": "markdown",
   "metadata": {},
   "source": [
    "### Main process\n",
    "\n",
    "1. Initialize the BPE tokenizer\n",
    "2. Train the tokenizer on the training corpus\n",
    "3. Initialize bigram model: used 2000 for vocab_size in the sake of memory consumption\n",
    "4. Build the bigram matrix using the same training corpus"
   ]
  },
  {
   "cell_type": "code",
   "execution_count": 5,
   "metadata": {},
   "outputs": [
    {
     "name": "stderr",
     "output_type": "stream",
     "text": [
      "8000it [00:02, 3226.33it/s]\n",
      "Training bigram matrix: 8000it [11:24, 11.69it/s]\n"
     ]
    }
   ],
   "source": [
    "vocab_size = 2000\n",
    "bpe_tokenizer = BPETokenization(vocab_size=vocab_size)\n",
    "\n",
    "bpe_tokenizer.train(corpus_generator(\n",
    "    corpus_folder,\n",
    "    train_dataset\n",
    "    )\n",
    ")\n",
    "\n",
    "model = BigramLanguageModel(bpe_tokenizer, vocab_size)\n",
    "\n",
    "model.build_bigram_matrix(corpus_generator(\n",
    "    corpus_folder,\n",
    "    train_dataset\n",
    "))"
   ]
  },
  {
   "cell_type": "markdown",
   "metadata": {},
   "source": [
    "Then we can:\n",
    "1. Generate text;\n",
    "2. Calculate the perplexity score for the test corpus."
   ]
  },
  {
   "cell_type": "code",
   "execution_count": 6,
   "metadata": {},
   "outputs": [
    {
     "name": "stdout",
     "output_type": "stream",
     "text": [
      "???????stutesm 2ONCho de\n",
      "Perplexity: 12.734767886062848\n"
     ]
    }
   ],
   "source": [
    "initial_text = \"Filho de\"\n",
    "generated_text = model.generate_text(initial_text, num_tokens=20)\n",
    "print(f\"Generated text: {generated_text}\")\n",
    "\n",
    "perplexity = model.calculate_perplexity(corpus_generator(\n",
    "    corpus_folder,\n",
    "    test_dataset\n",
    "))\n",
    "print(f\"Perplexity: {perplexity}\")"
   ]
  },
  {
   "cell_type": "markdown",
   "metadata": {},
   "source": [
    "There's still a lot of work to do!\n",
    "\n",
    "For improvements:\n",
    "- Grow the number of vocab_size: it can helps to improve the text generation;\n",
    "- Speed up the training time for the bigram model."
   ]
  },
  {
   "cell_type": "code",
   "execution_count": null,
   "metadata": {},
   "outputs": [],
   "source": []
  }
 ],
 "metadata": {
  "kernelspec": {
   "display_name": "venv",
   "language": "python",
   "name": "python3"
  },
  "language_info": {
   "codemirror_mode": {
    "name": "ipython",
    "version": 3
   },
   "file_extension": ".py",
   "mimetype": "text/x-python",
   "name": "python",
   "nbconvert_exporter": "python",
   "pygments_lexer": "ipython3",
   "version": "3.10.12"
  }
 },
 "nbformat": 4,
 "nbformat_minor": 2
}
